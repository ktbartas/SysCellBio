{
 "cells": [
  {
   "cell_type": "markdown",
   "metadata": {},
   "source": [
    "# Systems Cell Bio HW#2  \n",
    "Professor Gross' section of the course  \n",
    "Katrina Bartas  \n",
    "2/17/21"
   ]
  },
  {
   "cell_type": "markdown",
   "metadata": {},
   "source": [
    "HW#1 simulated a single kinesin stepping, ignoring load and ATP, by having “steps” occur with constant probability. You assumed kinesin takes 8 nm steps, with no back-steps, and has some probability of detaching per step, and tuned things to get the appropriate mean velocity and run-length. You made a histogram of run-lengths. Now we’ll look at velocities.  \n",
    "\n",
    "# Q1  \n",
    "How does velocity variation change with the size of the window used to calculate velocity?  \n",
    "Show distributions (histograms shown below).  \n",
    "Explain how you got the answers for Q1 (explanation provided after the histograms below)."
   ]
  },
  {
   "cell_type": "code",
   "execution_count": 1,
   "metadata": {},
   "outputs": [],
   "source": [
    "#import necessary packages, define variables, define placeholders\n",
    "import random\n",
    "import numpy as np\n",
    "import matplotlib.pyplot as plt"
   ]
  },
  {
   "cell_type": "code",
   "execution_count": 2,
   "metadata": {},
   "outputs": [
    {
     "name": "stdout",
     "output_type": "stream",
     "text": [
      "The length of time used to calculate velocity is  0.01  seconds.\n"
     ]
    },
    {
     "data": {
      "image/png": "[encoded data removed]",
      "text/plain": [
       "<Figure size 432x288 with 1 Axes>"
      ]
     },
     "metadata": {
      "needs_background": "light"
     },
     "output_type": "display_data"
    }
   ],
   "source": [
    "#run 200 trials for .01 seconds\n",
    "n = 200 # n is the number of runs to simulate\n",
    "SRS =1\n",
    "ts = 10000 # ts is the number of time steps in a second\n",
    "MtrStepDecider = random.randrange(ts) #this will be used to determine if try to step\n",
    "MtrDetachDecider = random.randrange(ts) #This is used to see if falls off\n",
    "num_steps=[] #placeholder, empty list\n",
    "distance_travelled=[] #placeholder, empty list\n",
    "run_length=[] #placeholder, empty list\n",
    "velocity=[] #placeholder, empty list\n",
    "for i in range(n*SRS):  #This is a loop which will go n times\n",
    "    numtimesteps = 0\n",
    "    Numsteps = 0\n",
    "    MtrDetachDecider = 1000  #this makes sure you get into the while loop\n",
    "    while numtimesteps < 100:\n",
    "        numtimesteps = numtimesteps + 1\n",
    "        MtrStepDecider = random.randrange (ts)\n",
    "        # print('timestep is', numtimesteps, 'MtrStepDecider is', MtrStepDecider, 'MtrDetachDec is', MtrDetachDecider )\n",
    "        if MtrStepDecider <= 100:  #if true, then is attempting to step\n",
    "            MtrDetachDecider = random.randrange(ts)\n",
    "            if MtrDetachDecider > 100:\n",
    "                Numsteps = Numsteps + 1\n",
    "                #print ('entered if loop')\n",
    "                #print ('steps taken so far', Numsteps)\n",
    "    num_steps.append(Numsteps) #append num steps for this iteration i to list\n",
    "    distance_travelled.append(Numsteps*8) #append dist travelled for this iteration i to list\n",
    "    run_length.append(numtimesteps/10000) #in seconds (length of time the trial went on)\n",
    "    velocity.append((Numsteps*8)/(numtimesteps/10000)) #append velocity for this iteration i to list\n",
    "mean_velocity=np.mean(velocity) # in nanometers/sec\n",
    "#histogram for velocity calculated over 1 second\n",
    "print(\"The length of time used to calculate velocity is \",run_length[1],\" seconds.\")\n",
    "#make histogram below\n",
    "m, bins, patches = plt.hist(x=velocity, bins='auto', alpha=0.7, rwidth=0.85) #choose bins automatically\n",
    "plt.grid(axis='y', alpha=0.5)\n",
    "plt.xlabel('Velocity (nanometers/sec)')\n",
    "plt.ylabel('Frequency')\n",
    "plt.title('Histogram of velocity calculated over 0.01 seconds')\n",
    "maxfreq = m.max()"
   ]
  },
  {
   "cell_type": "code",
   "execution_count": 3,
   "metadata": {},
   "outputs": [
    {
     "name": "stdout",
     "output_type": "stream",
     "text": [
      "The length of time used to calculate velocity is  0.1  seconds.\n"
     ]
    },
    {
     "data": {
      "image/png": "[encoded data removed]",
      "text/plain": [
       "<Figure size 432x288 with 1 Axes>"
      ]
     },
     "metadata": {
      "needs_background": "light"
     },
     "output_type": "display_data"
    }
   ],
   "source": [
    "#run 200 trials for .1 seconds\n",
    "n = 200 # n is the number of runs to simulate\n",
    "SRS =1\n",
    "ts = 10000 # ts is the number of time steps in a second\n",
    "MtrStepDecider = random.randrange(ts) #this will be used to determine if try to step\n",
    "MtrDetachDecider = random.randrange(ts) #This is used to see if falls off\n",
    "num_steps=[] #placeholder, empty list\n",
    "distance_travelled=[] #placeholder, empty list\n",
    "run_length=[] #placeholder, empty list\n",
    "velocity=[] #placeholder, empty list\n",
    "for i in range(n*SRS):  #This is a loop which will go n times\n",
    "    numtimesteps = 0\n",
    "    Numsteps = 0\n",
    "    MtrDetachDecider = 1000  #this makes sure you get into the while loop\n",
    "    while numtimesteps < 1000:\n",
    "        numtimesteps = numtimesteps + 1\n",
    "        MtrStepDecider = random.randrange (ts)\n",
    "        # print('timestep is', numtimesteps, 'MtrStepDecider is', MtrStepDecider, 'MtrDetachDec is', MtrDetachDecider )\n",
    "        if MtrStepDecider <= 100:  #if true, then is attempting to step\n",
    "            MtrDetachDecider = random.randrange(ts)\n",
    "            if MtrDetachDecider > 100:\n",
    "                Numsteps = Numsteps + 1\n",
    "                #print ('entered if loop')\n",
    "                #print ('steps taken so far', Numsteps)\n",
    "    num_steps.append(Numsteps) #append num steps for this iteration i to list\n",
    "    distance_travelled.append(Numsteps*8) #append dist travelled for this iteration i to list\n",
    "    run_length.append(numtimesteps/10000) #in seconds (length of time the trial went on)\n",
    "    velocity.append((Numsteps*8)/(numtimesteps/10000)) #append velocity for this iteration i to list\n",
    "mean_velocity=np.mean(velocity) # in nanometers/sec\n",
    "#histogram for velocity calculated over 1 second\n",
    "print(\"The length of time used to calculate velocity is \",run_length[1],\" seconds.\")\n",
    "#make histogram below\n",
    "m, bins, patches = plt.hist(x=velocity, bins='auto', alpha=0.7, rwidth=0.85) #choose bins automatically\n",
    "plt.grid(axis='y', alpha=0.5)\n",
    "plt.xlabel('Velocity (nanometers/sec)')\n",
    "plt.ylabel('Frequency')\n",
    "plt.title('Histogram of velocity calculated over 0.1 seconds')\n",
    "maxfreq = m.max()"
   ]
  },
  {
   "cell_type": "code",
   "execution_count": 4,
   "metadata": {},
   "outputs": [
    {
     "name": "stdout",
     "output_type": "stream",
     "text": [
      "The length of time used to calculate velocity is  1.0  seconds.\n"
     ]
    },
    {
     "data": {
      "image/png": "[encoded data removed]",
      "text/plain": [
       "<Figure size 432x288 with 1 Axes>"
      ]
     },
     "metadata": {
      "needs_background": "light"
     },
     "output_type": "display_data"
    }
   ],
   "source": [
    "#run 200 trials for 1 second\n",
    "n = 200 # n is the number of runs to simulate\n",
    "SRS =1\n",
    "ts = 10000 # ts is the number of time steps in a second\n",
    "MtrStepDecider = random.randrange(ts) #this will be used to determine if try to step\n",
    "MtrDetachDecider = random.randrange(ts) #This is used to see if falls off\n",
    "num_steps=[] #placeholder, empty list\n",
    "distance_travelled=[] #placeholder, empty list\n",
    "run_length=[] #placeholder, empty list\n",
    "velocity=[] #placeholder, empty list\n",
    "for i in range(n*SRS):  #This is a loop which will go n times\n",
    "    numtimesteps = 0\n",
    "    Numsteps = 0\n",
    "    MtrDetachDecider = 1000  #this makes sure you get into the while loop\n",
    "    while numtimesteps < 10000:\n",
    "        numtimesteps = numtimesteps + 1\n",
    "        MtrStepDecider = random.randrange (ts)\n",
    "        # print('timestep is', numtimesteps, 'MtrStepDecider is', MtrStepDecider, 'MtrDetachDec is', MtrDetachDecider )\n",
    "        if MtrStepDecider <= 100:  #if true, then is attempting to step\n",
    "            MtrDetachDecider = random.randrange(ts)\n",
    "            if MtrDetachDecider > 100:\n",
    "                Numsteps = Numsteps + 1\n",
    "                #print ('entered if loop')\n",
    "                #print ('steps taken so far', Numsteps)\n",
    "    num_steps.append(Numsteps) #append num steps for this iteration i to list\n",
    "    distance_travelled.append(Numsteps*8) #append dist travelled for this iteration i to list\n",
    "    run_length.append(numtimesteps/10000) #in seconds (length of time the trial went on)\n",
    "    velocity.append((Numsteps*8)/(numtimesteps/10000)) #append velocity for this iteration i to list\n",
    "mean_velocity=np.mean(velocity) # in nanometers/sec\n",
    "#histogram for velocity calculated over 1 second\n",
    "print(\"The length of time used to calculate velocity is \",run_length[1],\" seconds.\")\n",
    "#make histogram below\n",
    "m, bins, patches = plt.hist(x=velocity, bins='auto', alpha=0.7, rwidth=0.85) #choose bins automatically\n",
    "plt.grid(axis='y', alpha=0.5)\n",
    "plt.xlabel('Velocity (nanometers/sec)')\n",
    "plt.ylabel('Frequency')\n",
    "plt.title('Histogram of velocity calculated over 1 second')\n",
    "maxfreq = m.max()"
   ]
  },
  {
   "cell_type": "code",
   "execution_count": 5,
   "metadata": {},
   "outputs": [
    {
     "name": "stdout",
     "output_type": "stream",
     "text": [
      "The length of time used to calculate velocity is  10.0  seconds.\n"
     ]
    },
    {
     "data": {
      "image/png": "[encoded data removed]",
      "text/plain": [
       "<Figure size 432x288 with 1 Axes>"
      ]
     },
     "metadata": {
      "needs_background": "light"
     },
     "output_type": "display_data"
    }
   ],
   "source": [
    "#run 200 trials for 10 second\n",
    "n = 200 # n is the number of runs to simulate\n",
    "SRS =1\n",
    "ts = 10000 # ts is the number of time steps in a second\n",
    "MtrStepDecider = random.randrange(ts) #this will be used to determine if try to step\n",
    "MtrDetachDecider = random.randrange(ts) #This is used to see if falls off\n",
    "num_steps=[] #placeholder, empty list\n",
    "distance_travelled=[] #placeholder, empty list\n",
    "run_length=[] #placeholder, empty list\n",
    "velocity=[] #placeholder, empty list\n",
    "for i in range(n*SRS):  #This is a loop which will go n times\n",
    "    numtimesteps = 0\n",
    "    Numsteps = 0\n",
    "    MtrDetachDecider = 1000  #this makes sure you get into the while loop\n",
    "    while numtimesteps < 100000:\n",
    "        numtimesteps = numtimesteps + 1\n",
    "        MtrStepDecider = random.randrange (ts)\n",
    "        # print('timestep is', numtimesteps, 'MtrStepDecider is', MtrStepDecider, 'MtrDetachDec is', MtrDetachDecider )\n",
    "        if MtrStepDecider <= 100:  #if true, then is attempting to step\n",
    "            MtrDetachDecider = random.randrange(ts)\n",
    "            if MtrDetachDecider > 100:\n",
    "                Numsteps = Numsteps + 1\n",
    "                #print ('entered if loop')\n",
    "                #print ('steps taken so far', Numsteps)\n",
    "    num_steps.append(Numsteps) #append num steps for this iteration i to list\n",
    "    distance_travelled.append(Numsteps*8) #append dist travelled for this iteration i to list\n",
    "    run_length.append(numtimesteps/10000) #in seconds (length of time the trial went on)\n",
    "    velocity.append((Numsteps*8)/(numtimesteps/10000)) #append velocity for this iteration i to list\n",
    "mean_velocity=np.mean(velocity) # in nanometers/sec\n",
    "#histogram for velocity calculated over 1 second\n",
    "print(\"The length of time used to calculate velocity is \",run_length[1],\" seconds.\")\n",
    "#make histogram below\n",
    "m, bins, patches = plt.hist(x=velocity, bins='auto', alpha=0.7, rwidth=0.85) #choose bins automatically\n",
    "plt.grid(axis='y', alpha=0.5)\n",
    "plt.xlabel('Velocity (nanometers/sec)')\n",
    "plt.ylabel('Frequency')\n",
    "plt.title('Histogram of velocity calculated over 10 seconds')\n",
    "maxfreq = m.max()"
   ]
  },
  {
   "cell_type": "markdown",
   "metadata": {},
   "source": [
    "To get the answer for Q1, I adjusted my code from HW#1 to focus on velocity.  \n",
    "To focus on velocity, I first eliminated the randomness of when the run would end (detachment no longer matters to me because we don't care about run length, now we care about velocity). Instead, I made the run end after a certain amount of time and calculated the velocities of these runs of varying time. The histograms are above.  \n",
    "As you can see, velocity variation increases when the window size (time span) used to calculate velocity is smaller. The distributions above show that there is a lot of variation with small windows. For example, when using 0.01 seconds to calculate velocity, velocities ranged from 0 to 4000 nm/sec. On the other hand, there was much less variation with large windows. When using 10 seconds to calculate velocity, velocities ranged from 740 to 860 nm/sec and there was a clear peak frequency at 800 nm/sec.  \n",
    "The trend of reduced variation as timespan increases is clearly shown in the above histograms."
   ]
  },
  {
   "cell_type": "markdown",
   "metadata": {},
   "source": [
    "# Q2  \n",
    "Suppose a motor moves with a mean velocity of 800 nm/sec.  \n",
    "What is the chance of observing a velocity of at least 900 nm/sec at least once in a 1 second\n",
    "interval, calculating velocity over windows of 0.05 sec, 0.1 sec, 0.2 sec, 0.4 sec, and 1 sec?\n",
    "Answer this same question for velocities of 1200 nm/s, 1600 nm/sec, 2400 nm/sec and 3600\n",
    "nm/sec.\n",
    "\n",
    "Explain how you got the answers for Q2.  \n",
    "I calculated the answers based on observation (simulations). I did 10,000 trials and for each trial calculated velocities over windows of 0.05 sec, 0.1 sec, 0.2 sec, 0.4 sec, and 1 sec. I then checked to see how many of the velocities calculated (10,000 total) were over or equal to the desired velocities of 900 nm/s, 1200 nm/s, 1600 nm/sec, 2400 nm/sec and 3600 nm/sec. I divided that number by 10,000 to get the proportion of velocities expected to be over the velocity threshold for that time interval, which I named \"success\".    \n",
    "Next, I obtained the probability that the velocity would not be over the velocity threshold for that time interval by substracting \"success\" from 1. I saved this value and named it \"fail\". Then, depending on the window of time, I raised \"fail\" to the n^th power, where n is the numer of times you must multiply that window of time to get 1 second (for example, for 0.05 seconds, n=20). I named this value \"probfail\" because it is the probability that the velocity would not be over the velocity threshold for the time interval of 1 second.    \n",
    "Next, I subtracted \"probfail\" from 1 to get the probability that the velocity would be over the velocity threshold for the time interval of 1 second. I printed this value as a percent for each window of time and velocity threshold below.  \n",
    "If I wanted to get more accurate answers I could increase the number of trials from 10,000. With my code, if the probability that an event will occur is less than 0.01%, it might not register because it might not happen in the 10,000 trials. But, I don't want my computer to set itself on fire so I will accept this flaw and stick to 10,000 trials.  \n",
    "The code used and answers are displayed below:"
   ]
  },
  {
   "cell_type": "code",
   "execution_count": 6,
   "metadata": {},
   "outputs": [
    {
     "name": "stdout",
     "output_type": "stream",
     "text": [
      "The length of time used to calculate velocity is  0.05  seconds.\n",
      "The percentages below are based on observation:\n",
      "99.99320155397567 % chance of observing a velocity of at least  900  nm/sec at least once in a 1 second interval, calculating velocity over windows of 0.05 sec.\n",
      "94.29344911805116 % chance of observing a velocity of at least  1200  nm/sec at least once in a 1 second interval, calculating velocity over windows of 0.05 sec.\n",
      "47.386691154107496 % chance of observing a velocity of at least  1600  nm/sec at least once in a 1 second interval, calculating velocity over windows of 0.05 sec.\n",
      "0.3992409112252515 % chance of observing a velocity of at least  2400  nm/sec at least once in a 1 second interval, calculating velocity over windows of 0.05 sec.\n",
      "0.0 % chance of observing a velocity of at least  3600  nm/sec at least once in a 1 second interval, calculating velocity over windows of 0.05 sec.\n"
     ]
    }
   ],
   "source": [
    "#run 10000 trials for .05 seconds \n",
    "n = 10000 # n is the number of runs to simulate\n",
    "SRS =1\n",
    "ts = 10000 # ts is the number of time steps in a second\n",
    "MtrStepDecider = random.randrange(ts) #this will be used to determine if try to step\n",
    "MtrDetachDecider = random.randrange(ts) #This is used to see if falls off\n",
    "num_steps=[] #placeholder, empty list\n",
    "distance_travelled=[] #placeholder, empty list\n",
    "run_length=[] #placeholder, empty list\n",
    "velocity=[] #placeholder, empty list\n",
    "for i in range(n*SRS):  #This is a loop which will go n times\n",
    "    numtimesteps = 0\n",
    "    Numsteps = 0\n",
    "    MtrDetachDecider = 1000  #this makes sure you get into the while loop\n",
    "    while numtimesteps < 500:\n",
    "        numtimesteps = numtimesteps + 1\n",
    "        MtrStepDecider = random.randrange (ts)\n",
    "        # print('timestep is', numtimesteps, 'MtrStepDecider is', MtrStepDecider, 'MtrDetachDec is', MtrDetachDecider )\n",
    "        if MtrStepDecider <= 100:  #if true, then is attempting to step\n",
    "            MtrDetachDecider = random.randrange(ts)\n",
    "            if MtrDetachDecider > 100:\n",
    "                Numsteps = Numsteps + 1\n",
    "                #print ('entered if loop')\n",
    "                #print ('steps taken so far', Numsteps)\n",
    "    num_steps.append(Numsteps) #append num steps for this iteration i to list\n",
    "    distance_travelled.append(Numsteps*8) #append dist travelled for this iteration i to list\n",
    "    run_length.append(numtimesteps/10000) #in seconds (length of time the trial went on)\n",
    "    velocity.append((Numsteps*8)/(numtimesteps/10000)) #append velocity for this iteration i to list\n",
    "mean_velocity=np.mean(velocity) # in nanometers/sec\n",
    "#histogram for velocity calculated over 1 second\n",
    "print(\"The length of time used to calculate velocity is \",run_length[1],\" seconds.\")\n",
    "print(\"The percentages below are based on observation:\")\n",
    "#calc proportion over 900 to 3600\n",
    "minimums=[900,1200,1600,2400,3600]\n",
    "for min in minimums:\n",
    "    count=0\n",
    "    for vel in velocity:\n",
    "        if vel >=min:\n",
    "            count+=1\n",
    "    success=count/n\n",
    "    fail=1-success\n",
    "    probfail=fail**20 #because 20*0.05 is 1 second\n",
    "    prob=1-probfail\n",
    "    print(prob*100,\"% chance of observing a velocity of at least \",min,\" nm/sec at least once in a 1 second interval, calculating velocity over windows of 0.05 sec.\")"
   ]
  },
  {
   "cell_type": "code",
   "execution_count": 7,
   "metadata": {},
   "outputs": [
    {
     "name": "stdout",
     "output_type": "stream",
     "text": [
      "The length of time used to calculate velocity is  0.1  seconds.\n",
      "The percentages below are based on observation:\n",
      "97.41942227036921 % chance of observing a velocity of at least  900  nm/sec at least once in a 1 second interval, calculating velocity over windows of 0.1 sec.\n",
      "57.91116212954764 % chance of observing a velocity of at least  1200  nm/sec at least once in a 1 second interval, calculating velocity over windows of 0.1 sec.\n",
      "3.8322619924366808 % chance of observing a velocity of at least  1600  nm/sec at least once in a 1 second interval, calculating velocity over windows of 0.1 sec.\n",
      "0.0 % chance of observing a velocity of at least  2400  nm/sec at least once in a 1 second interval, calculating velocity over windows of 0.1 sec.\n",
      "0.0 % chance of observing a velocity of at least  3600  nm/sec at least once in a 1 second interval, calculating velocity over windows of 0.1 sec.\n"
     ]
    }
   ],
   "source": [
    "#run 10000 trials for .1 seconds\n",
    "n = 10000 # n is the number of runs to simulate\n",
    "SRS =1\n",
    "ts = 10000 # ts is the number of time steps in a second\n",
    "MtrStepDecider = random.randrange(ts) #this will be used to determine if try to step\n",
    "MtrDetachDecider = random.randrange(ts) #This is used to see if falls off\n",
    "num_steps=[] #placeholder, empty list\n",
    "distance_travelled=[] #placeholder, empty list\n",
    "run_length=[] #placeholder, empty list\n",
    "velocity=[] #placeholder, empty list\n",
    "for i in range(n*SRS):  #This is a loop which will go n times\n",
    "    numtimesteps = 0\n",
    "    Numsteps = 0\n",
    "    MtrDetachDecider = 1000  #this makes sure you get into the while loop\n",
    "    while numtimesteps < 1000:\n",
    "        numtimesteps = numtimesteps + 1\n",
    "        MtrStepDecider = random.randrange (ts)\n",
    "        # print('timestep is', numtimesteps, 'MtrStepDecider is', MtrStepDecider, 'MtrDetachDec is', MtrDetachDecider )\n",
    "        if MtrStepDecider <= 100:  #if true, then is attempting to step\n",
    "            MtrDetachDecider = random.randrange(ts)\n",
    "            if MtrDetachDecider > 100:\n",
    "                Numsteps = Numsteps + 1\n",
    "                #print ('entered if loop')\n",
    "                #print ('steps taken so far', Numsteps)\n",
    "    num_steps.append(Numsteps) #append num steps for this iteration i to list\n",
    "    distance_travelled.append(Numsteps*8) #append dist travelled for this iteration i to list\n",
    "    run_length.append(numtimesteps/10000) #in seconds (length of time the trial went on)\n",
    "    velocity.append((Numsteps*8)/(numtimesteps/10000)) #append velocity for this iteration i to list\n",
    "#histogram for velocity calculated over 1 second\n",
    "print(\"The length of time used to calculate velocity is \",run_length[1],\" seconds.\")\n",
    "print(\"The percentages below are based on observation:\")\n",
    "#calc proportion over 900 to 3600\n",
    "minimums=[900,1200,1600,2400,3600]\n",
    "for min in minimums:\n",
    "    count=0\n",
    "    for vel in velocity:\n",
    "        if vel >=min:\n",
    "            count+=1\n",
    "    success=count/n\n",
    "    fail=1-success\n",
    "    probfail=fail**10 #because 10*0.1 is 1 second\n",
    "    prob=1-probfail\n",
    "    print(prob*100,\"% chance of observing a velocity of at least \",min,\" nm/sec at least once in a 1 second interval, calculating velocity over windows of 0.1 sec.\")"
   ]
  },
  {
   "cell_type": "code",
   "execution_count": 8,
   "metadata": {},
   "outputs": [
    {
     "name": "stdout",
     "output_type": "stream",
     "text": [
      "The length of time used to calculate velocity is  0.2  seconds.\n",
      "The percentages below are based on observation:\n",
      "80.06609308082736 % chance of observing a velocity of at least  900  nm/sec at least once in a 1 second interval, calculating velocity over windows of 0.2 sec.\n",
      "10.709354106400525 % chance of observing a velocity of at least  1200  nm/sec at least once in a 1 second interval, calculating velocity over windows of 0.2 sec.\n",
      "0.0 % chance of observing a velocity of at least  1600  nm/sec at least once in a 1 second interval, calculating velocity over windows of 0.2 sec.\n",
      "0.0 % chance of observing a velocity of at least  2400  nm/sec at least once in a 1 second interval, calculating velocity over windows of 0.2 sec.\n",
      "0.0 % chance of observing a velocity of at least  3600  nm/sec at least once in a 1 second interval, calculating velocity over windows of 0.2 sec.\n"
     ]
    }
   ],
   "source": [
    "#run 10000 trials for .2 seconds\n",
    "n = 10000 # n is the number of runs to simulate\n",
    "SRS =1\n",
    "ts = 10000 # ts is the number of time steps in a second\n",
    "MtrStepDecider = random.randrange(ts) #this will be used to determine if try to step\n",
    "MtrDetachDecider = random.randrange(ts) #This is used to see if falls off\n",
    "num_steps=[] #placeholder, empty list\n",
    "distance_travelled=[] #placeholder, empty list\n",
    "run_length=[] #placeholder, empty list\n",
    "velocity=[] #placeholder, empty list\n",
    "for i in range(n*SRS):  #This is a loop which will go n times\n",
    "    numtimesteps = 0\n",
    "    Numsteps = 0\n",
    "    MtrDetachDecider = 1000  #this makes sure you get into the while loop\n",
    "    while numtimesteps < 2000:\n",
    "        numtimesteps = numtimesteps + 1\n",
    "        MtrStepDecider = random.randrange (ts)\n",
    "        # print('timestep is', numtimesteps, 'MtrStepDecider is', MtrStepDecider, 'MtrDetachDec is', MtrDetachDecider )\n",
    "        if MtrStepDecider <= 100:  #if true, then is attempting to step\n",
    "            MtrDetachDecider = random.randrange(ts)\n",
    "            if MtrDetachDecider > 100:\n",
    "                Numsteps = Numsteps + 1\n",
    "                #print ('entered if loop')\n",
    "                #print ('steps taken so far', Numsteps)\n",
    "    num_steps.append(Numsteps) #append num steps for this iteration i to list\n",
    "    distance_travelled.append(Numsteps*8) #append dist travelled for this iteration i to list\n",
    "    run_length.append(numtimesteps/10000) #in seconds (length of time the trial went on)\n",
    "    velocity.append((Numsteps*8)/(numtimesteps/10000)) #append velocity for this iteration i to list\n",
    "#histogram for velocity calculated over 1 second\n",
    "print(\"The length of time used to calculate velocity is \",run_length[1],\" seconds.\")\n",
    "print(\"The percentages below are based on observation:\")\n",
    "#calc proportion over 900 to 3600\n",
    "minimums=[900,1200,1600,2400,3600]\n",
    "for min in minimums:\n",
    "    count=0\n",
    "    for vel in velocity:\n",
    "        if vel >=min:\n",
    "            count+=1\n",
    "    success=count/n\n",
    "    fail=1-success\n",
    "    probfail=fail**5 #because 5*0.2 is 1 second\n",
    "    prob=1-probfail\n",
    "    print(prob*100,\"% chance of observing a velocity of at least \",min,\" nm/sec at least once in a 1 second interval, calculating velocity over windows of 0.2 sec.\")"
   ]
  },
  {
   "cell_type": "code",
   "execution_count": 9,
   "metadata": {},
   "outputs": [
    {
     "name": "stdout",
     "output_type": "stream",
     "text": [
      "The length of time used to calculate velocity is  0.4  seconds.\n",
      "The percentages below are based on observation:\n",
      "48.830443563416225 % chance of observing a velocity of at least  900  nm/sec at least once in a 1 second interval, calculating velocity over windows of 0.4 sec.\n",
      "0.47432333939468885 % chance of observing a velocity of at least  1200  nm/sec at least once in a 1 second interval, calculating velocity over windows of 0.4 sec.\n",
      "0.0 % chance of observing a velocity of at least  1600  nm/sec at least once in a 1 second interval, calculating velocity over windows of 0.4 sec.\n",
      "0.0 % chance of observing a velocity of at least  2400  nm/sec at least once in a 1 second interval, calculating velocity over windows of 0.4 sec.\n",
      "0.0 % chance of observing a velocity of at least  3600  nm/sec at least once in a 1 second interval, calculating velocity over windows of 0.4 sec.\n"
     ]
    }
   ],
   "source": [
    "#run 10000 trials for .4 seconds\n",
    "n = 10000 # n is the number of runs to simulate\n",
    "SRS =1\n",
    "ts = 10000 # ts is the number of time steps in a second\n",
    "MtrStepDecider = random.randrange(ts) #this will be used to determine if try to step\n",
    "MtrDetachDecider = random.randrange(ts) #This is used to see if falls off\n",
    "num_steps=[] #placeholder, empty list\n",
    "distance_travelled=[] #placeholder, empty list\n",
    "run_length=[] #placeholder, empty list\n",
    "velocity=[] #placeholder, empty list\n",
    "for i in range(n*SRS):  #This is a loop which will go n times\n",
    "    numtimesteps = 0\n",
    "    Numsteps = 0\n",
    "    MtrDetachDecider = 1000  #this makes sure you get into the while loop\n",
    "    while numtimesteps < 4000:\n",
    "        numtimesteps = numtimesteps + 1\n",
    "        MtrStepDecider = random.randrange (ts)\n",
    "        # print('timestep is', numtimesteps, 'MtrStepDecider is', MtrStepDecider, 'MtrDetachDec is', MtrDetachDecider )\n",
    "        if MtrStepDecider <= 100:  #if true, then is attempting to step\n",
    "            MtrDetachDecider = random.randrange(ts)\n",
    "            if MtrDetachDecider > 100:\n",
    "                Numsteps = Numsteps + 1\n",
    "                #print ('entered if loop')\n",
    "                #print ('steps taken so far', Numsteps)\n",
    "    num_steps.append(Numsteps) #append num steps for this iteration i to list\n",
    "    distance_travelled.append(Numsteps*8) #append dist travelled for this iteration i to list\n",
    "    run_length.append(numtimesteps/10000) #in seconds (length of time the trial went on)\n",
    "    velocity.append((Numsteps*8)/(numtimesteps/10000)) #append velocity for this iteration i to list\n",
    "#histogram for velocity calculated over 1 second\n",
    "print(\"The length of time used to calculate velocity is \",run_length[1],\" seconds.\")\n",
    "print(\"The percentages below are based on observation:\")\n",
    "#calc proportion over 900 to 3600\n",
    "minimums=[900,1200,1600,2400,3600]\n",
    "for min in minimums:\n",
    "    count=0\n",
    "    for vel in velocity:\n",
    "        if vel >=min:\n",
    "            count+=1\n",
    "    success=count/n\n",
    "    fail=1-success\n",
    "    probfail=fail**2.5 #because 2.5*0.4 is 1 second\n",
    "    prob=1-probfail\n",
    "    print(prob*100,\"% chance of observing a velocity of at least \",min,\" nm/sec at least once in a 1 second interval, calculating velocity over windows of 0.4 sec.\")"
   ]
  },
  {
   "cell_type": "code",
   "execution_count": 10,
   "metadata": {},
   "outputs": [
    {
     "name": "stdout",
     "output_type": "stream",
     "text": [
      "The length of time used to calculate velocity is  1.0  seconds.\n",
      "The percentages below are based on observation:\n",
      "10.85 % chance of observing a velocity of at least  900  nm/sec at least once in a 1 second interval, calculating velocity over windows of 1.0 sec.\n",
      "0.0 % chance of observing a velocity of at least  1200  nm/sec at least once in a 1 second interval, calculating velocity over windows of 1.0 sec.\n",
      "0.0 % chance of observing a velocity of at least  1600  nm/sec at least once in a 1 second interval, calculating velocity over windows of 1.0 sec.\n",
      "0.0 % chance of observing a velocity of at least  2400  nm/sec at least once in a 1 second interval, calculating velocity over windows of 1.0 sec.\n",
      "0.0 % chance of observing a velocity of at least  3600  nm/sec at least once in a 1 second interval, calculating velocity over windows of 1.0 sec.\n"
     ]
    }
   ],
   "source": [
    "#run 10000 trials for 1 seconds\n",
    "n = 10000 # n is the number of runs to simulate\n",
    "SRS =1\n",
    "ts = 10000 # ts is the number of time steps in a second\n",
    "MtrStepDecider = random.randrange(ts) #this will be used to determine if try to step\n",
    "MtrDetachDecider = random.randrange(ts) #This is used to see if falls off\n",
    "num_steps=[] #placeholder, empty list\n",
    "distance_travelled=[] #placeholder, empty list\n",
    "run_length=[] #placeholder, empty list\n",
    "velocity=[] #placeholder, empty list\n",
    "for i in range(n*SRS):  #This is a loop which will go n times\n",
    "    numtimesteps = 0\n",
    "    Numsteps = 0\n",
    "    MtrDetachDecider = 1000  #this makes sure you get into the while loop\n",
    "    while numtimesteps < 10000:\n",
    "        numtimesteps = numtimesteps + 1\n",
    "        MtrStepDecider = random.randrange (ts)\n",
    "        # print('timestep is', numtimesteps, 'MtrStepDecider is', MtrStepDecider, 'MtrDetachDec is', MtrDetachDecider )\n",
    "        if MtrStepDecider <= 100:  #if true, then is attempting to step\n",
    "            MtrDetachDecider = random.randrange(ts)\n",
    "            if MtrDetachDecider > 100:\n",
    "                Numsteps = Numsteps + 1\n",
    "                #print ('entered if loop')\n",
    "                #print ('steps taken so far', Numsteps)\n",
    "    num_steps.append(Numsteps) #append num steps for this iteration i to list\n",
    "    distance_travelled.append(Numsteps*8) #append dist travelled for this iteration i to list\n",
    "    run_length.append(numtimesteps/10000) #in seconds (length of time the trial went on)\n",
    "    velocity.append((Numsteps*8)/(numtimesteps/10000)) #append velocity for this iteration i to list\n",
    "#histogram for velocity calculated over 1 second\n",
    "print(\"The length of time used to calculate velocity is \",run_length[1],\" seconds.\")\n",
    "print(\"The percentages below are based on observation:\")\n",
    "#calc proportion over 900 to 3600\n",
    "minimums=[900,1200,1600,2400,3600]\n",
    "for min in minimums:\n",
    "    count=0\n",
    "    for vel in velocity:\n",
    "        if vel >=min:\n",
    "            count+=1\n",
    "    success=count/n\n",
    "    print(success*100,\"% chance of observing a velocity of at least \",min,\" nm/sec at least once in a 1 second interval, calculating velocity over windows of 1.0 sec.\")"
   ]
  }
 ],
 "metadata": {
  "kernelspec": {
   "display_name": "Python 3",
   "language": "python",
   "name": "python3"
  },
  "language_info": {
   "codemirror_mode": {
    "name": "ipython",
    "version": 3
   },
   "file_extension": ".py",
   "mimetype": "text/x-python",
   "name": "python",
   "nbconvert_exporter": "python",
   "pygments_lexer": "ipython3",
   "version": "3.8.5"
  }
 },
 "nbformat": 4,
 "nbformat_minor": 4
}
