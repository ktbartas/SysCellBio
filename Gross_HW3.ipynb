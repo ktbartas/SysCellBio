{
 "cells": [
  {
   "cell_type": "markdown",
   "metadata": {},
   "source": [
    "# Systems Cell Bio HW#3  \n",
    "Professor Gross' section of the course  \n",
    "Katrina Bartas  \n",
    "2/17/21"
   ]
  },
  {
   "cell_type": "markdown",
   "metadata": {},
   "source": [
    "The goal is to model two kinesin motors functioning together. In HW#1 you developed a\n",
    "simulation for 1 motor. Here, you will stick two such motors together.  \n",
    "The main goal here: determine how changing the velocity of the motors (i.e. the rate at which\n",
    "each motor steps) affects the mean travel distance of the group, for two motors. You should\n",
    "compare these results to the order-of-magnitude theory developed in class. How similar are the\n",
    "two sets of predictions?  \n",
    "If different, suggest what might account for the difference.  \n",
    "Assume that each individual motor has a processivity of 800 nm. What is your prediction for the\n",
    "mean travel of a cargo with two such motors, assuming a fixed on-rate (probability of binding)\n",
    "of 2/sec, for mean velocity of 100 nm/sec, 200 nm/sec, 400 nm/sec, and 800 nm/sec?  \n",
    "Key points:  \n",
    "a) motors only fall off when they attempt to step,  \n",
    "b) a ‘run’ of the cargo ends only when both motors detach, assume that when a motor unbinds, it has a constant chance of\n",
    "rebinding in subsequent turns (determined by its on-rate) and that when it rebinds, it binds exactly at the location of the bound motor.  \n",
    "As well as the mean travel (with 95% CI) also show distributions of run-lengths for the different velocity conditions."
   ]
  },
  {
   "cell_type": "code",
   "execution_count": null,
   "metadata": {},
   "outputs": [],
   "source": []
  }
 ],
 "metadata": {
  "kernelspec": {
   "display_name": "Python 3",
   "language": "python",
   "name": "python3"
  },
  "language_info": {
   "codemirror_mode": {
    "name": "ipython",
    "version": 3
   },
   "file_extension": ".py",
   "mimetype": "text/x-python",
   "name": "python",
   "nbconvert_exporter": "python",
   "pygments_lexer": "ipython3",
   "version": "3.8.5"
  }
 },
 "nbformat": 4,
 "nbformat_minor": 4
}
