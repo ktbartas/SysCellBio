{
 "cells": [
  {
   "cell_type": "markdown",
   "metadata": {},
   "source": [
    "# Systems Cell Bio HW#1  \n",
    "Professor Gross' section of the course  \n",
    "Katrina Bartas  \n",
    "2/17/21"
   ]
  },
  {
   "cell_type": "markdown",
   "metadata": {},
   "source": [
    "# Part A  \n",
    "Simulate a single kinesin-type motor stepping along a microtubule (MT). At t=0 (the start of a ‘run’) it\n",
    "should attach to a microtubule. At each subsequent timestep it should have a probability of stepping, or\n",
    "falling off the MT (which ends the run). Each successful step should advance it 8 nm. You should adjust\n",
    "the stepping frequency so that the average velocity is 800 nm/sec, and should adjust the off rate\n",
    "(probability of falling off the MT for a given step) so that the mean travel distance is 800 nm. Important:\n",
    "the ‘timestep’ of the simulation should be relatively small compared to the frequency of stepping, so on\n",
    "many ‘iterations’ of the simulation there will be no step; the probability of a step must be the same on\n",
    "each iteration.  "
   ]
  },
  {
   "cell_type": "markdown",
   "metadata": {},
   "source": [
    "The below 2 cells were based off of the code provided by Professor Gross via email (some modifications)."
   ]
  },
  {
   "cell_type": "code",
   "execution_count": 1,
   "metadata": {},
   "outputs": [],
   "source": [
    "#import necessary packages, define variables, define placeholders\n",
    "import random\n",
    "import numpy as np\n",
    "import matplotlib.pyplot as plt\n",
    "n = 100 # n is the number of runs to simulate\n",
    "ts = 10000 # ts is the number of time steps in a second\n",
    "MtrStepDecider = random.randrange(ts) #this will be used to determine if try to step\n",
    "MtrDetachDecider = random.randrange(ts) #This is used to see if falls off\n",
    "num_steps=[] #placeholder, empty list\n",
    "distance_travelled=[] #placeholder, empty list\n",
    "run_length=[] #placeholder, empty list\n",
    "velocity=[] #placeholder, empty list"
   ]
  },
  {
   "cell_type": "code",
   "execution_count": 2,
   "metadata": {},
   "outputs": [],
   "source": [
    "#for loop which runs simulation n times\n",
    "for i in range(n):  #This is a loop which will go n times\n",
    "    numtimesteps = 0\n",
    "    Numsteps = 0\n",
    "    MtrDetachDecider = 1000  #this makes sure you get into the while loop\n",
    "    while MtrDetachDecider >= 100:\n",
    "        numtimesteps = numtimesteps + 1\n",
    "        MtrStepDecider = random.randrange (ts)\n",
    "        # print('timestep is', numtimesteps, 'MtrStepDecider is', MtrStepDecider, 'MtrDetachDec is', MtrDetachDecider )\n",
    "        if MtrStepDecider < 100:  #if true, then is attempting to step\n",
    "            MtrDetachDecider = random.randrange(ts)\n",
    "            if MtrDetachDecider >= 100:\n",
    "                Numsteps = Numsteps + 1\n",
    "                #print ('entered if loop')\n",
    "                #print ('steps taken so far', Numsteps)\n",
    "            else:\n",
    "                num_steps.append(Numsteps) #append num steps for this iteration i to list\n",
    "                distance_travelled.append(Numsteps*8) #append dist travelled for this iteration i to list\n",
    "                run_length.append(numtimesteps/10000)\n",
    "                velocity.append((Numsteps*8)/(numtimesteps/10000)) #append velocity for this iteration i to list\n",
    "                #print(\"Distance travelled (nm): \",Numsteps*8, \", Number of time steps: \",numtimesteps,(Numsteps*8)/(numtimesteps/10000))"
   ]
  },
  {
   "cell_type": "code",
   "execution_count": 3,
   "metadata": {},
   "outputs": [
    {
     "data": {
      "text/plain": [
       "784.0920536485912"
      ]
     },
     "execution_count": 3,
     "metadata": {},
     "output_type": "execute_result"
    }
   ],
   "source": [
    "np.mean(velocity) # in nanometers/sec"
   ]
  },
  {
   "cell_type": "markdown",
   "metadata": {},
   "source": [
    "# Part B  \n",
    "Simulate different numbers of trials (e.g. 10, 20, 40, 80, 160, 1000 individual ‘runs’) and make\n",
    "corresponding histograms showing the distributions of run lengths. This is to develop intuition about\n",
    "how many runs you need to have for the histogram to clearly start looking like a decaying exponential."
   ]
  },
  {
   "cell_type": "code",
   "execution_count": 4,
   "metadata": {},
   "outputs": [
    {
     "data": {
      "image/png": "[encoded data removed]",
      "text/plain": [
       "<Figure size 432x288 with 1 Axes>"
      ]
     },
     "metadata": {
      "needs_background": "light"
     },
     "output_type": "display_data"
    }
   ],
   "source": [
    "#run 10 trials (will do 10, 20, 40, 80, 160, 1000 individual ‘runs’)\n",
    "n = 10 # n is the number of runs to simulate\n",
    "ts = 10000 # ts is the number of time steps in a second\n",
    "MtrStepDecider = random.randrange(ts) #this will be used to determine if try to step\n",
    "MtrDetachDecider = random.randrange(ts) #This is used to see if falls off\n",
    "num_steps=[] #placeholder, empty list\n",
    "distance_travelled=[] #placeholder, empty list\n",
    "run_length=[] #placeholder, empty list\n",
    "for i in range(n):  #This is a loop which will go n times\n",
    "    numtimesteps = 0\n",
    "    Numsteps = 0\n",
    "    MtrDetachDecider = 1000  #this makes sure you get into the while loop\n",
    "    while MtrDetachDecider >= 100:\n",
    "        numtimesteps = numtimesteps + 1\n",
    "        MtrStepDecider = random.randrange (ts)\n",
    "        # print('timestep is', numtimesteps, 'MtrStepDecider is', MtrStepDecider, 'MtrDetachDec is', MtrDetachDecider )\n",
    "        if MtrStepDecider < 100:  #if true, then is attempting to step\n",
    "            MtrDetachDecider = random.randrange(ts)\n",
    "            if MtrDetachDecider >= 100:\n",
    "                Numsteps = Numsteps + 1\n",
    "                #print ('entered if loop')\n",
    "                #print ('steps taken so far', Numsteps)\n",
    "            else:\n",
    "                num_steps.append(Numsteps) #append num steps for this iteration i to list\n",
    "                distance_travelled.append(Numsteps*8) #append dist travelled for this iteration i to list\n",
    "                run_length.append(numtimesteps/10000)\n",
    "#make histogram below\n",
    "m, bins, patches = plt.hist(x=run_length, bins='auto', alpha=0.7, rwidth=0.85) #choose bins automatically\n",
    "plt.grid(axis='y', alpha=0.5)\n",
    "plt.xlabel('Run Length (seconds)')\n",
    "plt.ylabel('Frequency')\n",
    "plt.title('Histogram of 10 trials')\n",
    "maxfreq = m.max()"
   ]
  },
  {
   "cell_type": "code",
   "execution_count": 5,
   "metadata": {},
   "outputs": [
    {
     "data": {
      "image/png": "[encoded data removed]",
      "text/plain": [
       "<Figure size 432x288 with 1 Axes>"
      ]
     },
     "metadata": {
      "needs_background": "light"
     },
     "output_type": "display_data"
    }
   ],
   "source": [
    "#run 20 trials (will do 10, 20, 40, 80, 160, 1000 individual ‘runs’)\n",
    "n = 20 # n is the number of runs to simulate\n",
    "ts = 10000 # ts is the number of time steps in a second\n",
    "MtrStepDecider = random.randrange(ts) #this will be used to determine if try to step\n",
    "MtrDetachDecider = random.randrange(ts) #This is used to see if falls off\n",
    "num_steps=[] #placeholder, empty list\n",
    "distance_travelled=[] #placeholder, empty list\n",
    "run_length=[] #placeholder, empty list\n",
    "for i in range(n):  #This is a loop which will go n times\n",
    "    numtimesteps = 0\n",
    "    Numsteps = 0\n",
    "    MtrDetachDecider = 1000  #this makes sure you get into the while loop\n",
    "    while MtrDetachDecider >= 100:\n",
    "        numtimesteps = numtimesteps + 1\n",
    "        MtrStepDecider = random.randrange (ts)\n",
    "        # print('timestep is', numtimesteps, 'MtrStepDecider is', MtrStepDecider, 'MtrDetachDec is', MtrDetachDecider )\n",
    "        if MtrStepDecider < 100:  #if true, then is attempting to step\n",
    "            MtrDetachDecider = random.randrange(ts)\n",
    "            if MtrDetachDecider >= 100:\n",
    "                Numsteps = Numsteps + 1\n",
    "                #print ('entered if loop')\n",
    "                #print ('steps taken so far', Numsteps)\n",
    "            else:\n",
    "                num_steps.append(Numsteps) #append num steps for this iteration i to list\n",
    "                distance_travelled.append(Numsteps*8) #append dist travelled for this iteration i to list\n",
    "                run_length.append(numtimesteps/10000)\n",
    "#make histogram below\n",
    "m, bins, patches = plt.hist(x=run_length, bins='auto', alpha=0.7, rwidth=0.85) #choose bins automatically\n",
    "plt.grid(axis='y', alpha=0.5)\n",
    "plt.xlabel('Run Length (seconds)')\n",
    "plt.ylabel('Frequency')\n",
    "plt.title('Histogram of 20 trials')\n",
    "maxfreq = m.max()"
   ]
  },
  {
   "cell_type": "code",
   "execution_count": 6,
   "metadata": {},
   "outputs": [
    {
     "data": {
      "image/png": "[encoded data removed]",
      "text/plain": [
       "<Figure size 432x288 with 1 Axes>"
      ]
     },
     "metadata": {
      "needs_background": "light"
     },
     "output_type": "display_data"
    }
   ],
   "source": [
    "#run 40 trials (will do 10, 20, 40, 80, 160, 1000 individual ‘runs’)\n",
    "n = 40 # n is the number of runs to simulate\n",
    "ts = 10000 # ts is the number of time steps in a second\n",
    "MtrStepDecider = random.randrange(ts) #this will be used to determine if try to step\n",
    "MtrDetachDecider = random.randrange(ts) #This is used to see if falls off\n",
    "num_steps=[] #placeholder, empty list\n",
    "distance_travelled=[] #placeholder, empty list\n",
    "run_length=[] #placeholder, empty list\n",
    "for i in range(n):  #This is a loop which will go n times\n",
    "    numtimesteps = 0\n",
    "    Numsteps = 0\n",
    "    MtrDetachDecider = 1000  #this makes sure you get into the while loop\n",
    "    while MtrDetachDecider >= 100:\n",
    "        numtimesteps = numtimesteps + 1\n",
    "        MtrStepDecider = random.randrange (ts)\n",
    "        # print('timestep is', numtimesteps, 'MtrStepDecider is', MtrStepDecider, 'MtrDetachDec is', MtrDetachDecider )\n",
    "        if MtrStepDecider < 100:  #if true, then is attempting to step\n",
    "            MtrDetachDecider = random.randrange(ts)\n",
    "            if MtrDetachDecider >= 100:\n",
    "                Numsteps = Numsteps + 1\n",
    "                #print ('entered if loop')\n",
    "                #print ('steps taken so far', Numsteps)\n",
    "            else:\n",
    "                num_steps.append(Numsteps) #append num steps for this iteration i to list\n",
    "                distance_travelled.append(Numsteps*8) #append dist travelled for this iteration i to list\n",
    "                run_length.append(numtimesteps/10000)\n",
    "#make histogram below\n",
    "m, bins, patches = plt.hist(x=run_length, bins='auto', alpha=0.7, rwidth=0.85) #choose bins automatically\n",
    "plt.grid(axis='y', alpha=0.5)\n",
    "plt.xlabel('Run Length (seconds)')\n",
    "plt.ylabel('Frequency')\n",
    "plt.title('Histogram of 40 trials')\n",
    "maxfreq = m.max()"
   ]
  },
  {
   "cell_type": "code",
   "execution_count": 7,
   "metadata": {},
   "outputs": [
    {
     "data": {
      "image/png": "[encoded data removed]",
      "text/plain": [
       "<Figure size 432x288 with 1 Axes>"
      ]
     },
     "metadata": {
      "needs_background": "light"
     },
     "output_type": "display_data"
    }
   ],
   "source": [
    "#run 80 trials (will do 10, 20, 40, 80, 160, 1000 individual ‘runs’)\n",
    "n = 80 # n is the number of runs to simulate\n",
    "ts = 10000 # ts is the number of time steps in a second\n",
    "MtrStepDecider = random.randrange(ts) #this will be used to determine if try to step\n",
    "MtrDetachDecider = random.randrange(ts) #This is used to see if falls off\n",
    "num_steps=[] #placeholder, empty list\n",
    "distance_travelled=[] #placeholder, empty list\n",
    "run_length=[] #placeholder, empty list\n",
    "for i in range(n):  #This is a loop which will go n times\n",
    "    numtimesteps = 0\n",
    "    Numsteps = 0\n",
    "    MtrDetachDecider = 1000  #this makes sure you get into the while loop\n",
    "    while MtrDetachDecider >= 100:\n",
    "        numtimesteps = numtimesteps + 1\n",
    "        MtrStepDecider = random.randrange (ts)\n",
    "        # print('timestep is', numtimesteps, 'MtrStepDecider is', MtrStepDecider, 'MtrDetachDec is', MtrDetachDecider )\n",
    "        if MtrStepDecider < 100:  #if true, then is attempting to step\n",
    "            MtrDetachDecider = random.randrange(ts)\n",
    "            if MtrDetachDecider >= 100:\n",
    "                Numsteps = Numsteps + 1\n",
    "                #print ('entered if loop')\n",
    "                #print ('steps taken so far', Numsteps)\n",
    "            else:\n",
    "                num_steps.append(Numsteps) #append num steps for this iteration i to list\n",
    "                distance_travelled.append(Numsteps*8) #append dist travelled for this iteration i to list\n",
    "                run_length.append(numtimesteps/10000)\n",
    "#make histogram below\n",
    "m, bins, patches = plt.hist(x=run_length, bins='auto', alpha=0.7, rwidth=0.85) #choose bins automatically\n",
    "plt.grid(axis='y', alpha=0.5)\n",
    "plt.xlabel('Run Length (seconds)')\n",
    "plt.ylabel('Frequency')\n",
    "plt.title('Histogram of 80 trials')\n",
    "maxfreq = m.max()"
   ]
  },
  {
   "cell_type": "code",
   "execution_count": 8,
   "metadata": {},
   "outputs": [
    {
     "data": {
      "image/png": "[encoded data removed]",
      "text/plain": [
       "<Figure size 432x288 with 1 Axes>"
      ]
     },
     "metadata": {
      "needs_background": "light"
     },
     "output_type": "display_data"
    }
   ],
   "source": [
    "#run 160 trials (will do 10, 20, 40, 80, 160, 1000 individual ‘runs’)\n",
    "n = 160 # n is the number of runs to simulate\n",
    "ts = 10000 # ts is the number of time steps in a second\n",
    "MtrStepDecider = random.randrange(ts) #this will be used to determine if try to step\n",
    "MtrDetachDecider = random.randrange(ts) #This is used to see if falls off\n",
    "num_steps=[] #placeholder, empty list\n",
    "distance_travelled=[] #placeholder, empty list\n",
    "run_length=[] #placeholder, empty list\n",
    "for i in range(n):  #This is a loop which will go n times\n",
    "    numtimesteps = 0\n",
    "    Numsteps = 0\n",
    "    MtrDetachDecider = 1000  #this makes sure you get into the while loop\n",
    "    while MtrDetachDecider >= 100:\n",
    "        numtimesteps = numtimesteps + 1\n",
    "        MtrStepDecider = random.randrange (ts)\n",
    "        # print('timestep is', numtimesteps, 'MtrStepDecider is', MtrStepDecider, 'MtrDetachDec is', MtrDetachDecider )\n",
    "        if MtrStepDecider < 100:  #if true, then is attempting to step\n",
    "            MtrDetachDecider = random.randrange(ts)\n",
    "            if MtrDetachDecider >= 100:\n",
    "                Numsteps = Numsteps + 1\n",
    "                #print ('entered if loop')\n",
    "                #print ('steps taken so far', Numsteps)\n",
    "            else:\n",
    "                num_steps.append(Numsteps) #append num steps for this iteration i to list\n",
    "                distance_travelled.append(Numsteps*8) #append dist travelled for this iteration i to list\n",
    "                run_length.append(numtimesteps/10000)\n",
    "#make histogram below\n",
    "m, bins, patches = plt.hist(x=run_length, bins='auto', alpha=0.7, rwidth=0.85) #choose bins automatically\n",
    "plt.grid(axis='y', alpha=0.5)\n",
    "plt.xlabel('Run Length (seconds)')\n",
    "plt.ylabel('Frequency')\n",
    "plt.title('Histogram of 160 trials')\n",
    "maxfreq = m.max()"
   ]
  },
  {
   "cell_type": "code",
   "execution_count": 9,
   "metadata": {},
   "outputs": [
    {
     "data": {
      "image/png": "[encoded data removed]",
      "text/plain": [
       "<Figure size 432x288 with 1 Axes>"
      ]
     },
     "metadata": {
      "needs_background": "light"
     },
     "output_type": "display_data"
    }
   ],
   "source": [
    "#run 1000 trials (will do 10, 20, 40, 80, 160, 1000 individual ‘runs’)\n",
    "n = 1000 # n is the number of runs to simulate\n",
    "ts = 10000 # ts is the number of time steps in a second\n",
    "MtrStepDecider = random.randrange(ts) #this will be used to determine if try to step\n",
    "MtrDetachDecider = random.randrange(ts) #This is used to see if falls off\n",
    "num_steps=[] #placeholder, empty list\n",
    "distance_travelled=[] #placeholder, empty list\n",
    "run_length=[] #placeholder, empty list\n",
    "for i in range(n):  #This is a loop which will go n times\n",
    "    numtimesteps = 0\n",
    "    Numsteps = 0\n",
    "    MtrDetachDecider = 1000  #this makes sure you get into the while loop\n",
    "    while MtrDetachDecider >= 100:\n",
    "        numtimesteps = numtimesteps + 1\n",
    "        MtrStepDecider = random.randrange (ts)\n",
    "        # print('timestep is', numtimesteps, 'MtrStepDecider is', MtrStepDecider, 'MtrDetachDec is', MtrDetachDecider )\n",
    "        if MtrStepDecider < 100:  #if true, then is attempting to step\n",
    "            MtrDetachDecider = random.randrange(ts)\n",
    "            if MtrDetachDecider >= 100:\n",
    "                Numsteps = Numsteps + 1\n",
    "                #print ('entered if loop')\n",
    "                #print ('steps taken so far', Numsteps)\n",
    "            else:\n",
    "                num_steps.append(Numsteps) #append num steps for this iteration i to list\n",
    "                distance_travelled.append(Numsteps*8) #append dist travelled for this iteration i to list\n",
    "                run_length.append(numtimesteps/10000)\n",
    "#make histogram below\n",
    "m, bins, patches = plt.hist(x=run_length, bins='auto', alpha=0.7, rwidth=0.85) #choose bins automatically\n",
    "plt.grid(axis='y', alpha=0.5)\n",
    "plt.xlabel('Run Length (seconds)')\n",
    "plt.ylabel('Frequency')\n",
    "plt.title('Histogram of 1000 trials')\n",
    "maxfreq = m.max()"
   ]
  },
  {
   "cell_type": "markdown",
   "metadata": {},
   "source": [
    "# Part C  \n",
    "Do motor simulations (as just described) to generate run-lengths. Take different numbers of runs to generate SRS of different sizes, generate histograms of the means. Do means from SRS of 1, 2,4, 8, 16,32,64, 128.  \n",
    "The run-length distributions should be exponential, so SRS of 1 should be an exponential distribution (in Part B you explored how many runs you needed to include in the SRS of 1 in order for it to be apparent that the distribution was a decaying exponent).  \n",
    "As the SRS size gets larger, the distribution of SRSs means should become more and more Gaussian.  \n",
    "Show the distributions, and conclude/discuss when the size of the SRS is such that the distribution of the SRS means looks Gaussian."
   ]
  },
  {
   "cell_type": "markdown",
   "metadata": {},
   "source": [
    "For all of the following histograms I will use n=200 (200 runs) based on the results of part B. 200 runs is enough to show the decaying exponential trend, but it is small enough for my computer to handle quickly."
   ]
  },
  {
   "cell_type": "code",
   "execution_count": 10,
   "metadata": {},
   "outputs": [
    {
     "data": {
      "image/png": "[encoded data removed]",
      "text/plain": [
       "<Figure size 432x288 with 1 Axes>"
      ]
     },
     "metadata": {
      "needs_background": "light"
     },
     "output_type": "display_data"
    }
   ],
   "source": [
    "#SRS of 1 \n",
    "n = 200 # n is the number of runs to simulate\n",
    "ts = 10000 # ts is the number of time steps in a second\n",
    "MtrStepDecider = random.randrange(ts) #this will be used to determine if try to step\n",
    "MtrDetachDecider = random.randrange(ts) #This is used to see if falls off\n",
    "num_steps=[] #placeholder, empty list\n",
    "distance_travelled=[] #placeholder, empty list\n",
    "run_length=[] #placeholder, empty list\n",
    "for i in range(n):  #This is a loop which will go n times\n",
    "    numtimesteps = 0\n",
    "    Numsteps = 0\n",
    "    MtrDetachDecider = 1000  #this makes sure you get into the while loop\n",
    "    while MtrDetachDecider >= 100:\n",
    "        numtimesteps = numtimesteps + 1\n",
    "        MtrStepDecider = random.randrange (ts)\n",
    "        # print('timestep is', numtimesteps, 'MtrStepDecider is', MtrStepDecider, 'MtrDetachDec is', MtrDetachDecider )\n",
    "        if MtrStepDecider < 100:  #if true, then is attempting to step\n",
    "            MtrDetachDecider = random.randrange(ts)\n",
    "            if MtrDetachDecider >= 100:\n",
    "                Numsteps = Numsteps + 1\n",
    "                #print ('entered if loop')\n",
    "                #print ('steps taken so far', Numsteps)\n",
    "            else:\n",
    "                num_steps.append(Numsteps) #append num steps for this iteration i to list\n",
    "                distance_travelled.append(Numsteps*8) #append dist travelled for this iteration i to list\n",
    "                run_length.append(numtimesteps/10000)\n",
    "#make histogram below\n",
    "m, bins, patches = plt.hist(x=run_length, bins='auto', alpha=0.7, rwidth=0.85) #choose bins automatically\n",
    "plt.grid(axis='y', alpha=0.5)\n",
    "plt.xlabel('Run Length (seconds)')\n",
    "plt.ylabel('Frequency')\n",
    "plt.title('Histogram with SRS of 1, 200 trials')\n",
    "maxfreq = m.max()"
   ]
  },
  {
   "cell_type": "code",
   "execution_count": 11,
   "metadata": {},
   "outputs": [
    {
     "data": {
      "image/png": "[encoded data removed]",
      "text/plain": [
       "<Figure size 432x288 with 1 Axes>"
      ]
     },
     "metadata": {
      "needs_background": "light"
     },
     "output_type": "display_data"
    }
   ],
   "source": [
    "#SRS of 2\n",
    "SRS=2\n",
    "n = 200 # n is the number of runs to simulate\n",
    "ts = 10000 # ts is the number of time steps in a second\n",
    "MtrStepDecider = random.randrange(ts) #this will be used to determine if try to step\n",
    "MtrDetachDecider = random.randrange(ts) #This is used to see if falls off\n",
    "num_steps=[] #placeholder, empty list\n",
    "distance_travelled=[] #placeholder, empty list\n",
    "run_length=[] #placeholder, empty list\n",
    "for i in range(n*SRS):  #This is a loop which will go n times\n",
    "    numtimesteps = 0\n",
    "    Numsteps = 0\n",
    "    MtrDetachDecider = 1000  #this makes sure you get into the while loop\n",
    "    while MtrDetachDecider >= 100:\n",
    "        numtimesteps = numtimesteps + 1\n",
    "        MtrStepDecider = random.randrange (ts)\n",
    "        # print('timestep is', numtimesteps, 'MtrStepDecider is', MtrStepDecider, 'MtrDetachDec is', MtrDetachDecider )\n",
    "        if MtrStepDecider < 100:  #if true, then is attempting to step\n",
    "            MtrDetachDecider = random.randrange(ts)\n",
    "            if MtrDetachDecider >= 100:\n",
    "                Numsteps = Numsteps + 1\n",
    "                #print ('entered if loop')\n",
    "                #print ('steps taken so far', Numsteps)\n",
    "            else:\n",
    "                num_steps.append(Numsteps) #append num steps for this iteration i to list\n",
    "                distance_travelled.append(Numsteps*8) #append dist travelled for this iteration i to list\n",
    "                run_length.append(numtimesteps/10000)\n",
    "#calculate average run_length of each sample\n",
    "run_length_reshape=np.reshape(run_length, (SRS, int(len(run_length)/SRS)))\n",
    "run_length_mean=np.mean(run_length_reshape, axis=0)\n",
    "#make histogram below\n",
    "m, bins, patches = plt.hist(x=run_length_mean, bins='auto', alpha=0.7, rwidth=0.85) #choose bins automatically\n",
    "plt.grid(axis='y', alpha=0.5)\n",
    "plt.xlabel('Run Length (seconds)')\n",
    "plt.ylabel('Frequency')\n",
    "plt.title('Histogram with SRS of 2, 200 trials')\n",
    "maxfreq = m.max()"
   ]
  },
  {
   "cell_type": "code",
   "execution_count": 12,
   "metadata": {},
   "outputs": [
    {
     "data": {
      "image/png": "[encoded data removed]",
      "text/plain": [
       "<Figure size 432x288 with 1 Axes>"
      ]
     },
     "metadata": {
      "needs_background": "light"
     },
     "output_type": "display_data"
    }
   ],
   "source": [
    "#SRS of 4\n",
    "SRS=4\n",
    "n = 200 # n is the number of runs to simulate\n",
    "ts = 10000 # ts is the number of time steps in a second\n",
    "MtrStepDecider = random.randrange(ts) #this will be used to determine if try to step\n",
    "MtrDetachDecider = random.randrange(ts) #This is used to see if falls off\n",
    "num_steps=[] #placeholder, empty list\n",
    "distance_travelled=[] #placeholder, empty list\n",
    "run_length=[] #placeholder, empty list\n",
    "for i in range(n*SRS):  #This is a loop which will go n times\n",
    "    numtimesteps = 0\n",
    "    Numsteps = 0\n",
    "    MtrDetachDecider = 1000  #this makes sure you get into the while loop\n",
    "    while MtrDetachDecider >= 100:\n",
    "        numtimesteps = numtimesteps + 1\n",
    "        MtrStepDecider = random.randrange (ts)\n",
    "        # print('timestep is', numtimesteps, 'MtrStepDecider is', MtrStepDecider, 'MtrDetachDec is', MtrDetachDecider )\n",
    "        if MtrStepDecider < 100:  #if true, then is attempting to step\n",
    "            MtrDetachDecider = random.randrange(ts)\n",
    "            if MtrDetachDecider >= 100:\n",
    "                Numsteps = Numsteps + 1\n",
    "                #print ('entered if loop')\n",
    "                #print ('steps taken so far', Numsteps)\n",
    "            else:\n",
    "                num_steps.append(Numsteps) #append num steps for this iteration i to list\n",
    "                distance_travelled.append(Numsteps*8) #append dist travelled for this iteration i to list\n",
    "                run_length.append(numtimesteps/10000)\n",
    "#calculate average run_length of each sample\n",
    "run_length_reshape=np.reshape(run_length, (SRS, int(len(run_length)/SRS)))\n",
    "run_length_mean=np.mean(run_length_reshape, axis=0)\n",
    "#make histogram below\n",
    "m, bins, patches = plt.hist(x=run_length_mean, bins='auto', alpha=0.7, rwidth=0.85) #choose bins automatically\n",
    "plt.grid(axis='y', alpha=0.5)\n",
    "plt.xlabel('Run Length (seconds)')\n",
    "plt.ylabel('Frequency')\n",
    "plt.title('Histogram with SRS of 4, 200 trials')\n",
    "maxfreq = m.max()"
   ]
  },
  {
   "cell_type": "code",
   "execution_count": 13,
   "metadata": {},
   "outputs": [
    {
     "data": {
      "image/png": "[encoded data removed]",
      "text/plain": [
       "<Figure size 432x288 with 1 Axes>"
      ]
     },
     "metadata": {
      "needs_background": "light"
     },
     "output_type": "display_data"
    }
   ],
   "source": [
    "#SRS of 8\n",
    "SRS=8\n",
    "n = 200 # n is the number of runs to simulate\n",
    "ts = 10000 # ts is the number of time steps in a second\n",
    "MtrStepDecider = random.randrange(ts) #this will be used to determine if try to step\n",
    "MtrDetachDecider = random.randrange(ts) #This is used to see if falls off\n",
    "num_steps=[] #placeholder, empty list\n",
    "distance_travelled=[] #placeholder, empty list\n",
    "run_length=[] #placeholder, empty list\n",
    "for i in range(n*SRS):  #This is a loop which will go n times\n",
    "    numtimesteps = 0\n",
    "    Numsteps = 0\n",
    "    MtrDetachDecider = 1000  #this makes sure you get into the while loop\n",
    "    while MtrDetachDecider >= 100:\n",
    "        numtimesteps = numtimesteps + 1\n",
    "        MtrStepDecider = random.randrange (ts)\n",
    "        # print('timestep is', numtimesteps, 'MtrStepDecider is', MtrStepDecider, 'MtrDetachDec is', MtrDetachDecider )\n",
    "        if MtrStepDecider < 100:  #if true, then is attempting to step\n",
    "            MtrDetachDecider = random.randrange(ts)\n",
    "            if MtrDetachDecider >= 100:\n",
    "                Numsteps = Numsteps + 1\n",
    "                #print ('entered if loop')\n",
    "                #print ('steps taken so far', Numsteps)\n",
    "            else:\n",
    "                num_steps.append(Numsteps) #append num steps for this iteration i to list\n",
    "                distance_travelled.append(Numsteps*8) #append dist travelled for this iteration i to list\n",
    "                run_length.append(numtimesteps/10000)\n",
    "#calculate average run_length of each sample\n",
    "run_length_reshape=np.reshape(run_length, (SRS, int(len(run_length)/SRS)))\n",
    "run_length_mean=np.mean(run_length_reshape, axis=0)\n",
    "#make histogram below\n",
    "m, bins, patches = plt.hist(x=run_length_mean, bins='auto', alpha=0.7, rwidth=0.85) #choose bins automatically\n",
    "plt.grid(axis='y', alpha=0.5)\n",
    "plt.xlabel('Run Length (seconds)')\n",
    "plt.ylabel('Frequency')\n",
    "plt.title('Histogram with SRS of 8, 200 trials')\n",
    "maxfreq = m.max()"
   ]
  },
  {
   "cell_type": "code",
   "execution_count": 14,
   "metadata": {},
   "outputs": [
    {
     "data": {
      "image/png": "[encoded data removed]",
      "text/plain": [
       "<Figure size 432x288 with 1 Axes>"
      ]
     },
     "metadata": {
      "needs_background": "light"
     },
     "output_type": "display_data"
    }
   ],
   "source": [
    "#SRS of 16\n",
    "SRS=16\n",
    "n = 200 # n is the number of runs to simulate\n",
    "ts = 10000 # ts is the number of time steps in a second\n",
    "MtrStepDecider = random.randrange(ts) #this will be used to determine if try to step\n",
    "MtrDetachDecider = random.randrange(ts) #This is used to see if falls off\n",
    "num_steps=[] #placeholder, empty list\n",
    "distance_travelled=[] #placeholder, empty list\n",
    "run_length=[] #placeholder, empty list\n",
    "for i in range(n*SRS):  #This is a loop which will go n times\n",
    "    numtimesteps = 0\n",
    "    Numsteps = 0\n",
    "    MtrDetachDecider = 1000  #this makes sure you get into the while loop\n",
    "    while MtrDetachDecider >= 100:\n",
    "        numtimesteps = numtimesteps + 1\n",
    "        MtrStepDecider = random.randrange (ts)\n",
    "        # print('timestep is', numtimesteps, 'MtrStepDecider is', MtrStepDecider, 'MtrDetachDec is', MtrDetachDecider )\n",
    "        if MtrStepDecider < 100:  #if true, then is attempting to step\n",
    "            MtrDetachDecider = random.randrange(ts)\n",
    "            if MtrDetachDecider >= 100:\n",
    "                Numsteps = Numsteps + 1\n",
    "                #print ('entered if loop')\n",
    "                #print ('steps taken so far', Numsteps)\n",
    "            else:\n",
    "                num_steps.append(Numsteps) #append num steps for this iteration i to list\n",
    "                distance_travelled.append(Numsteps*8) #append dist travelled for this iteration i to list\n",
    "                run_length.append(numtimesteps/10000)\n",
    "#calculate average run_length of each sample\n",
    "run_length_reshape=np.reshape(run_length, (SRS, int(len(run_length)/SRS)))\n",
    "run_length_mean=np.mean(run_length_reshape, axis=0)\n",
    "#make histogram below\n",
    "m, bins, patches = plt.hist(x=run_length_mean, bins='auto', alpha=0.7, rwidth=0.85) #choose bins automatically\n",
    "plt.grid(axis='y', alpha=0.5)\n",
    "plt.xlabel('Run Length (seconds)')\n",
    "plt.ylabel('Frequency')\n",
    "plt.title('Histogram with SRS of 16, 200 trials')\n",
    "maxfreq = m.max()"
   ]
  },
  {
   "cell_type": "code",
   "execution_count": 15,
   "metadata": {},
   "outputs": [
    {
     "data": {
      "image/png": "[encoded data removed]",
      "text/plain": [
       "<Figure size 432x288 with 1 Axes>"
      ]
     },
     "metadata": {
      "needs_background": "light"
     },
     "output_type": "display_data"
    }
   ],
   "source": [
    "#SRS of 32\n",
    "SRS=32\n",
    "n = 200 # n is the number of runs to simulate\n",
    "ts = 10000 # ts is the number of time steps in a second\n",
    "MtrStepDecider = random.randrange(ts) #this will be used to determine if try to step\n",
    "MtrDetachDecider = random.randrange(ts) #This is used to see if falls off\n",
    "num_steps=[] #placeholder, empty list\n",
    "distance_travelled=[] #placeholder, empty list\n",
    "run_length=[] #placeholder, empty list\n",
    "for i in range(n*SRS):  #This is a loop which will go n times\n",
    "    numtimesteps = 0\n",
    "    Numsteps = 0\n",
    "    MtrDetachDecider = 1000  #this makes sure you get into the while loop\n",
    "    while MtrDetachDecider >= 100:\n",
    "        numtimesteps = numtimesteps + 1\n",
    "        MtrStepDecider = random.randrange (ts)\n",
    "        # print('timestep is', numtimesteps, 'MtrStepDecider is', MtrStepDecider, 'MtrDetachDec is', MtrDetachDecider )\n",
    "        if MtrStepDecider < 100:  #if true, then is attempting to step\n",
    "            MtrDetachDecider = random.randrange(ts)\n",
    "            if MtrDetachDecider >= 100:\n",
    "                Numsteps = Numsteps + 1\n",
    "                #print ('entered if loop')\n",
    "                #print ('steps taken so far', Numsteps)\n",
    "            else:\n",
    "                num_steps.append(Numsteps) #append num steps for this iteration i to list\n",
    "                distance_travelled.append(Numsteps*8) #append dist travelled for this iteration i to list\n",
    "                run_length.append(numtimesteps/10000)\n",
    "#calculate average run_length of each sample\n",
    "run_length_reshape=np.reshape(run_length, (SRS, int(len(run_length)/SRS)))\n",
    "run_length_mean=np.mean(run_length_reshape, axis=0)\n",
    "#make histogram below\n",
    "m, bins, patches = plt.hist(x=run_length_mean, bins='auto', alpha=0.7, rwidth=0.85) #choose bins automatically\n",
    "plt.grid(axis='y', alpha=0.5)\n",
    "plt.xlabel('Run Length (seconds)')\n",
    "plt.ylabel('Frequency')\n",
    "plt.title('Histogram with SRS of 32, 200 trials')\n",
    "maxfreq = m.max()"
   ]
  },
  {
   "cell_type": "code",
   "execution_count": 16,
   "metadata": {},
   "outputs": [
    {
     "data": {
      "image/png": "[encoded data removed]",
      "text/plain": [
       "<Figure size 432x288 with 1 Axes>"
      ]
     },
     "metadata": {
      "needs_background": "light"
     },
     "output_type": "display_data"
    }
   ],
   "source": [
    "#SRS of 64\n",
    "SRS=64\n",
    "n = 200 # n is the number of runs to simulate\n",
    "ts = 10000 # ts is the number of time steps in a second\n",
    "MtrStepDecider = random.randrange(ts) #this will be used to determine if try to step\n",
    "MtrDetachDecider = random.randrange(ts) #This is used to see if falls off\n",
    "num_steps=[] #placeholder, empty list\n",
    "distance_travelled=[] #placeholder, empty list\n",
    "run_length=[] #placeholder, empty list\n",
    "for i in range(n*SRS):  #This is a loop which will go n times\n",
    "    numtimesteps = 0\n",
    "    Numsteps = 0\n",
    "    MtrDetachDecider = 1000  #this makes sure you get into the while loop\n",
    "    while MtrDetachDecider >= 100:\n",
    "        numtimesteps = numtimesteps + 1\n",
    "        MtrStepDecider = random.randrange (ts)\n",
    "        # print('timestep is', numtimesteps, 'MtrStepDecider is', MtrStepDecider, 'MtrDetachDec is', MtrDetachDecider )\n",
    "        if MtrStepDecider < 100:  #if true, then is attempting to step\n",
    "            MtrDetachDecider = random.randrange(ts)\n",
    "            if MtrDetachDecider >= 100:\n",
    "                Numsteps = Numsteps + 1\n",
    "                #print ('entered if loop')\n",
    "                #print ('steps taken so far', Numsteps)\n",
    "            else:\n",
    "                num_steps.append(Numsteps) #append num steps for this iteration i to list\n",
    "                distance_travelled.append(Numsteps*8) #append dist travelled for this iteration i to list\n",
    "                run_length.append(numtimesteps/10000)\n",
    "#calculate average run_length of each sample\n",
    "run_length_reshape=np.reshape(run_length, (SRS, int(len(run_length)/SRS)))\n",
    "run_length_mean=np.mean(run_length_reshape, axis=0)\n",
    "#make histogram below\n",
    "m, bins, patches = plt.hist(x=run_length_mean, bins='auto', alpha=0.7, rwidth=0.85) #choose bins automatically\n",
    "plt.grid(axis='y', alpha=0.5)\n",
    "plt.xlabel('Run Length (seconds)')\n",
    "plt.ylabel('Frequency')\n",
    "plt.title('Histogram with SRS of 64, 200 trials')\n",
    "maxfreq = m.max()"
   ]
  },
  {
   "cell_type": "code",
   "execution_count": 17,
   "metadata": {},
   "outputs": [
    {
     "data": {
      "image/png": "[encoded data removed]",
      "text/plain": [
       "<Figure size 432x288 with 1 Axes>"
      ]
     },
     "metadata": {
      "needs_background": "light"
     },
     "output_type": "display_data"
    }
   ],
   "source": [
    "#SRS of 128\n",
    "SRS=128\n",
    "n = 200 # n is the number of runs to simulate\n",
    "ts = 10000 # ts is the number of time steps in a second\n",
    "MtrStepDecider = random.randrange(ts) #this will be used to determine if try to step\n",
    "MtrDetachDecider = random.randrange(ts) #This is used to see if falls off\n",
    "num_steps=[] #placeholder, empty list\n",
    "distance_travelled=[] #placeholder, empty list\n",
    "run_length=[] #placeholder, empty list\n",
    "for i in range(n*SRS):  #This is a loop which will go n times\n",
    "    numtimesteps = 0\n",
    "    Numsteps = 0\n",
    "    MtrDetachDecider = 1000  #this makes sure you get into the while loop\n",
    "    while MtrDetachDecider >= 100:\n",
    "        numtimesteps = numtimesteps + 1\n",
    "        MtrStepDecider = random.randrange (ts)\n",
    "        # print('timestep is', numtimesteps, 'MtrStepDecider is', MtrStepDecider, 'MtrDetachDec is', MtrDetachDecider )\n",
    "        if MtrStepDecider < 100:  #if true, then is attempting to step\n",
    "            MtrDetachDecider = random.randrange(ts)\n",
    "            if MtrDetachDecider >= 100:\n",
    "                Numsteps = Numsteps + 1\n",
    "                #print ('entered if loop')\n",
    "                #print ('steps taken so far', Numsteps)\n",
    "            else:\n",
    "                num_steps.append(Numsteps) #append num steps for this iteration i to list\n",
    "                distance_travelled.append(Numsteps*8) #append dist travelled for this iteration i to list\n",
    "                run_length.append(numtimesteps/10000)\n",
    "#calculate average run_length of each sample\n",
    "run_length_reshape=np.reshape(run_length, (SRS, int(len(run_length)/SRS)))\n",
    "run_length_mean=np.mean(run_length_reshape, axis=0)\n",
    "#make histogram below\n",
    "m, bins, patches = plt.hist(x=run_length_mean, bins='auto', alpha=0.7, rwidth=0.85) #choose bins automatically\n",
    "plt.grid(axis='y', alpha=0.5)\n",
    "plt.xlabel('Run Length (seconds)')\n",
    "plt.ylabel('Frequency')\n",
    "plt.title('Histogram with SRS of 128, 200 trials')\n",
    "maxfreq = m.max()"
   ]
  },
  {
   "cell_type": "markdown",
   "metadata": {},
   "source": [
    "# Part D  \n",
    "Determine what sample size is required for reasonable estimate of the distribution’s properties. First,\n",
    "confirm that your simulation is working correctly—generate a really large number of runs (eg 100,000,\n",
    "and confirm that the mean travel is about 800 nm. If not, there is a problem in your simulation). Next,\n",
    "use a variety of sample sizes, starting from SRS of 1, and using SRS of 2, 4,8,16,32,64, 128 and 256,\n",
    "generate many SRS samples of that size, and for each determine a 95% CI (using standard t-test\n",
    "approach discussed in class). Then, determine whether the calculated CI contains the actual mean of the\n",
    "population (which you know to be 800 nm, or whatever you got from the 100000 measurement, by\n",
    "construction). Then, for that sample size, determine the proportion of correct events, i.e. the number of\n",
    "tests that included 800, divided by the total number of tests. Plot a graph of the proportion, as a\n",
    "function of the number of elements in the sample. At some point (i.e. for some sample size N), the\n",
    "proportion should get close to 0.95. When is that?  \n",
    "Finally, for each sample size, use the statistic we discussed in class (on proportions): for each sample\n",
    "size, does the proportion 95% CI include 0.95?  \n",
    "Although I originally suggested a few different sample sizes, feel free to go beyond those sizes as you see\n",
    "fit.  \n",
    "From all of this, summarize what you have learned about sample size, t-tests, and skewed distributions."
   ]
  },
  {
   "cell_type": "code",
   "execution_count": null,
   "metadata": {},
   "outputs": [],
   "source": []
  }
 ],
 "metadata": {
  "kernelspec": {
   "display_name": "Python 3",
   "language": "python",
   "name": "python3"
  },
  "language_info": {
   "codemirror_mode": {
    "name": "ipython",
    "version": 3
   },
   "file_extension": ".py",
   "mimetype": "text/x-python",
   "name": "python",
   "nbconvert_exporter": "python",
   "pygments_lexer": "ipython3",
   "version": "3.8.5"
  }
 },
 "nbformat": 4,
 "nbformat_minor": 4
}
