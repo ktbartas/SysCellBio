{
 "cells": [
  {
   "cell_type": "markdown",
   "metadata": {},
   "source": [
    "# Systems Cell Bio HW#1  \n",
    "Professor Gross' section of the course  \n",
    "Katrina Bartas  \n",
    "2/17/21"
   ]
  },
  {
   "cell_type": "markdown",
   "metadata": {},
   "source": [
    "# Part A  \n",
    "Simulate a single kinesin-type motor stepping along a microtubule (MT). At t=0 (the start of a ‘run’) it\n",
    "should attach to a microtubule. At each subsequent timestep it should have a probability of stepping, or\n",
    "falling off the MT (which ends the run). Each successful step should advance it 8 nm. You should adjust\n",
    "the stepping frequency so that the average velocity is 800 nm/sec, and should adjust the off rate\n",
    "(probability of falling off the MT for a given step) so that the mean travel distance is 800 nm. Important:\n",
    "the ‘timestep’ of the simulation should be relatively small compared to the frequency of stepping, so on\n",
    "many ‘iterations’ of the simulation there will be no step; the probability of a step must be the same on\n",
    "each iteration.  "
   ]
  },
  {
   "cell_type": "markdown",
   "metadata": {},
   "source": [
    "The below 2 cells were based off of the code provided by Professor Gross via email (some modifications)."
   ]
  },
  {
   "cell_type": "code",
   "execution_count": 1,
   "metadata": {},
   "outputs": [],
   "source": [
    "#import necessary packages, define variables, define placeholders\n",
    "import random\n",
    "import numpy as np\n",
    "import matplotlib.pyplot as plt\n",
    "from scipy import stats\n",
    "n = 100 # n is the number of runs to simulate\n",
    "ts = 10000 # ts is the number of time steps in a second\n",
    "MtrStepDecider = random.randrange(ts) #this will be used to determine if try to step\n",
    "MtrDetachDecider = random.randrange(ts) #This is used to see if falls off\n",
    "num_steps=[] #placeholder, empty list\n",
    "distance_travelled=[] #placeholder, empty list\n",
    "run_length=[] #placeholder, empty list\n",
    "velocity=[] #placeholder, empty list"
   ]
  },
  {
   "cell_type": "code",
   "execution_count": 2,
   "metadata": {},
   "outputs": [],
   "source": [
    "#for loop which runs simulation n times\n",
    "for i in range(n):  #This is a loop which will go n times\n",
    "    numtimesteps = 0\n",
    "    Numsteps = 0\n",
    "    MtrDetachDecider = 1000  #this makes sure you get into the while loop\n",
    "    while MtrDetachDecider >= 100:\n",
    "        numtimesteps = numtimesteps + 1\n",
    "        MtrStepDecider = random.randrange (ts)\n",
    "        # print('timestep is', numtimesteps, 'MtrStepDecider is', MtrStepDecider, 'MtrDetachDec is', MtrDetachDecider )\n",
    "        if MtrStepDecider <= 100:  #if true, then is attempting to step\n",
    "            MtrDetachDecider = random.randrange(ts)\n",
    "            if MtrDetachDecider > 100:\n",
    "                Numsteps = Numsteps + 1\n",
    "                #print ('entered if loop')\n",
    "                #print ('steps taken so far', Numsteps)\n",
    "    num_steps.append(Numsteps) #append num steps for this iteration i to list\n",
    "    distance_travelled.append(Numsteps*8) #append dist travelled for this iteration i to list\n",
    "    run_length.append(numtimesteps/10000)\n",
    "    velocity.append((Numsteps*8)/(numtimesteps/10000)) #append velocity for this iteration i to list"
   ]
  },
  {
   "cell_type": "markdown",
   "metadata": {},
   "source": [
    "# Part B  \n",
    "Simulate different numbers of trials (e.g. 10, 20, 40, 80, 160, 1000 individual ‘runs’) and make\n",
    "corresponding histograms showing the distributions of run lengths. This is to develop intuition about\n",
    "how many runs you need to have for the histogram to clearly start looking like a decaying exponential."
   ]
  },
  {
   "cell_type": "markdown",
   "metadata": {},
   "source": [
    "Based on the histograms below, at around 80 runs the histogram starts to look like a decaying exponential (sometimes 40 runs does as well, but it is chunkier and less consistently recognizably exponential).  \n",
    "Because there is some randomness involved, low numbers of trials do sometimes (by chance) look like decaying exponentials. However, at higher numbers of runs (80 and up) the histograms consistently show the decaying exponential."
   ]
  },
  {
   "cell_type": "code",
   "execution_count": 3,
   "metadata": {},
   "outputs": [
    {
     "data": {
      "image/png": "[encoded data removed]",
      "text/plain": [
       "<Figure size 432x288 with 1 Axes>"
      ]
     },
     "metadata": {
      "needs_background": "light"
     },
     "output_type": "display_data"
    }
   ],
   "source": [
    "#run 10 trials (will do 10, 20, 40, 80, 160, 1000 individual ‘runs’)\n",
    "n = 10 # n is the number of runs to simulate\n",
    "ts = 10000 # ts is the number of time steps in a second\n",
    "MtrStepDecider = random.randrange(ts) #this will be used to determine if try to step\n",
    "MtrDetachDecider = random.randrange(ts) #This is used to see if falls off\n",
    "num_steps=[] #placeholder, empty list\n",
    "distance_travelled=[] #placeholder, empty list\n",
    "run_length=[] #placeholder, empty list\n",
    "for i in range(n):  #This is a loop which will go n times\n",
    "    numtimesteps = 0\n",
    "    Numsteps = 0\n",
    "    MtrDetachDecider = 1000  #this makes sure you get into the while loop\n",
    "    while MtrDetachDecider >= 100:\n",
    "        numtimesteps = numtimesteps + 1\n",
    "        MtrStepDecider = random.randrange (ts)\n",
    "        # print('timestep is', numtimesteps, 'MtrStepDecider is', MtrStepDecider, 'MtrDetachDec is', MtrDetachDecider )\n",
    "        if MtrStepDecider <= 100:  #if true, then is attempting to step\n",
    "            MtrDetachDecider = random.randrange(ts)\n",
    "            if MtrDetachDecider > 100:\n",
    "                Numsteps = Numsteps + 1\n",
    "                #print ('entered if loop')\n",
    "                #print ('steps taken so far', Numsteps)\n",
    "    num_steps.append(Numsteps) #append num steps for this iteration i to list\n",
    "    distance_travelled.append(Numsteps*8) #append dist travelled for this iteration i to list\n",
    "    run_length.append(numtimesteps/10000)\n",
    "#make histogram below\n",
    "m, bins, patches = plt.hist(x=distance_travelled, bins='auto', alpha=0.7, rwidth=0.85) #choose bins automatically\n",
    "plt.grid(axis='y', alpha=0.5)\n",
    "plt.xlabel('Run Length (nanometers)')\n",
    "plt.ylabel('Frequency')\n",
    "plt.title('Histogram of 10 trials')\n",
    "maxfreq = m.max()"
   ]
  },
  {
   "cell_type": "code",
   "execution_count": 4,
   "metadata": {},
   "outputs": [
    {
     "data": {
      "image/png": "[encoded data removed]",
      "text/plain": [
       "<Figure size 432x288 with 1 Axes>"
      ]
     },
     "metadata": {
      "needs_background": "light"
     },
     "output_type": "display_data"
    }
   ],
   "source": [
    "#run 20 trials (will do 10, 20, 40, 80, 160, 1000 individual ‘runs’)\n",
    "n = 20 # n is the number of runs to simulate\n",
    "ts = 10000 # ts is the number of time steps in a second\n",
    "MtrStepDecider = random.randrange(ts) #this will be used to determine if try to step\n",
    "MtrDetachDecider = random.randrange(ts) #This is used to see if falls off\n",
    "num_steps=[] #placeholder, empty list\n",
    "distance_travelled=[] #placeholder, empty list\n",
    "run_length=[] #placeholder, empty list\n",
    "for i in range(n):  #This is a loop which will go n times\n",
    "    numtimesteps = 0\n",
    "    Numsteps = 0\n",
    "    MtrDetachDecider = 1000  #this makes sure you get into the while loop\n",
    "    while MtrDetachDecider >= 100:\n",
    "        numtimesteps = numtimesteps + 1\n",
    "        MtrStepDecider = random.randrange (ts)\n",
    "        # print('timestep is', numtimesteps, 'MtrStepDecider is', MtrStepDecider, 'MtrDetachDec is', MtrDetachDecider )\n",
    "        if MtrStepDecider <= 100:  #if true, then is attempting to step\n",
    "            MtrDetachDecider = random.randrange(ts)\n",
    "            if MtrDetachDecider > 100:\n",
    "                Numsteps = Numsteps + 1\n",
    "                #print ('entered if loop')\n",
    "                #print ('steps taken so far', Numsteps)\n",
    "    num_steps.append(Numsteps) #append num steps for this iteration i to list\n",
    "    distance_travelled.append(Numsteps*8) #append dist travelled for this iteration i to list\n",
    "    run_length.append(numtimesteps/10000)\n",
    "#make histogram below\n",
    "m, bins, patches = plt.hist(x=distance_travelled, bins='auto', alpha=0.7, rwidth=0.85) #choose bins automatically\n",
    "plt.grid(axis='y', alpha=0.5)\n",
    "plt.xlabel('Run Length (nanometers)')\n",
    "plt.ylabel('Frequency')\n",
    "plt.title('Histogram of 20 trials')\n",
    "maxfreq = m.max()"
   ]
  },
  {
   "cell_type": "code",
   "execution_count": 5,
   "metadata": {},
   "outputs": [
    {
     "data": {
      "image/png": "[encoded data removed]",
      "text/plain": [
       "<Figure size 432x288 with 1 Axes>"
      ]
     },
     "metadata": {
      "needs_background": "light"
     },
     "output_type": "display_data"
    }
   ],
   "source": [
    "#run 40 trials (will do 10, 20, 40, 80, 160, 1000 individual ‘runs’)\n",
    "n = 40 # n is the number of runs to simulate\n",
    "ts = 10000 # ts is the number of time steps in a second\n",
    "MtrStepDecider = random.randrange(ts) #this will be used to determine if try to step\n",
    "MtrDetachDecider = random.randrange(ts) #This is used to see if falls off\n",
    "num_steps=[] #placeholder, empty list\n",
    "distance_travelled=[] #placeholder, empty list\n",
    "run_length=[] #placeholder, empty list\n",
    "for i in range(n):  #This is a loop which will go n times\n",
    "    numtimesteps = 0\n",
    "    Numsteps = 0\n",
    "    MtrDetachDecider = 1000  #this makes sure you get into the while loop\n",
    "    while MtrDetachDecider >= 100:\n",
    "        numtimesteps = numtimesteps + 1\n",
    "        MtrStepDecider = random.randrange (ts)\n",
    "        # print('timestep is', numtimesteps, 'MtrStepDecider is', MtrStepDecider, 'MtrDetachDec is', MtrDetachDecider )\n",
    "        if MtrStepDecider <= 100:  #if true, then is attempting to step\n",
    "            MtrDetachDecider = random.randrange(ts)\n",
    "            if MtrDetachDecider > 100:\n",
    "                Numsteps = Numsteps + 1\n",
    "                #print ('entered if loop')\n",
    "                #print ('steps taken so far', Numsteps)\n",
    "    num_steps.append(Numsteps) #append num steps for this iteration i to list\n",
    "    distance_travelled.append(Numsteps*8) #append dist travelled for this iteration i to list\n",
    "    run_length.append(numtimesteps/10000)\n",
    "#make histogram below\n",
    "m, bins, patches = plt.hist(x=distance_travelled, bins='auto', alpha=0.7, rwidth=0.85) #choose bins automatically\n",
    "plt.grid(axis='y', alpha=0.5)\n",
    "plt.xlabel('Run Length (nanometers)')\n",
    "plt.ylabel('Frequency')\n",
    "plt.title('Histogram of 40 trials')\n",
    "maxfreq = m.max()"
   ]
  },
  {
   "cell_type": "code",
   "execution_count": 6,
   "metadata": {},
   "outputs": [
    {
     "data": {
      "image/png": "[encoded data removed]",
      "text/plain": [
       "<Figure size 432x288 with 1 Axes>"
      ]
     },
     "metadata": {
      "needs_background": "light"
     },
     "output_type": "display_data"
    }
   ],
   "source": [
    "#run 80 trials (will do 10, 20, 40, 80, 160, 1000 individual ‘runs’)\n",
    "n = 80 # n is the number of runs to simulate\n",
    "ts = 10000 # ts is the number of time steps in a second\n",
    "MtrStepDecider = random.randrange(ts) #this will be used to determine if try to step\n",
    "MtrDetachDecider = random.randrange(ts) #This is used to see if falls off\n",
    "num_steps=[] #placeholder, empty list\n",
    "distance_travelled=[] #placeholder, empty list\n",
    "run_length=[] #placeholder, empty list\n",
    "for i in range(n):  #This is a loop which will go n times\n",
    "    numtimesteps = 0\n",
    "    Numsteps = 0\n",
    "    MtrDetachDecider = 1000  #this makes sure you get into the while loop\n",
    "    while MtrDetachDecider >= 100:\n",
    "        numtimesteps = numtimesteps + 1\n",
    "        MtrStepDecider = random.randrange (ts)\n",
    "        # print('timestep is', numtimesteps, 'MtrStepDecider is', MtrStepDecider, 'MtrDetachDec is', MtrDetachDecider )\n",
    "        if MtrStepDecider <= 100:  #if true, then is attempting to step\n",
    "            MtrDetachDecider = random.randrange(ts)\n",
    "            if MtrDetachDecider > 100:\n",
    "                Numsteps = Numsteps + 1\n",
    "                #print ('entered if loop')\n",
    "                #print ('steps taken so far', Numsteps)\n",
    "    num_steps.append(Numsteps) #append num steps for this iteration i to list\n",
    "    distance_travelled.append(Numsteps*8) #append dist travelled for this iteration i to list\n",
    "    run_length.append(numtimesteps/10000)\n",
    "#make histogram below\n",
    "m, bins, patches = plt.hist(x=distance_travelled, bins='auto', alpha=0.7, rwidth=0.85) #choose bins automatically\n",
    "plt.grid(axis='y', alpha=0.5)\n",
    "plt.xlabel('Run Length (nanometers)')\n",
    "plt.ylabel('Frequency')\n",
    "plt.title('Histogram of 80 trials')\n",
    "maxfreq = m.max()"
   ]
  },
  {
   "cell_type": "code",
   "execution_count": 7,
   "metadata": {},
   "outputs": [
    {
     "data": {
      "image/png": "[encoded data removed]",
      "text/plain": [
       "<Figure size 432x288 with 1 Axes>"
      ]
     },
     "metadata": {
      "needs_background": "light"
     },
     "output_type": "display_data"
    }
   ],
   "source": [
    "#run 160 trials (will do 10, 20, 40, 80, 160, 1000 individual ‘runs’)\n",
    "n = 160 # n is the number of runs to simulate\n",
    "ts = 10000 # ts is the number of time steps in a second\n",
    "MtrStepDecider = random.randrange(ts) #this will be used to determine if try to step\n",
    "MtrDetachDecider = random.randrange(ts) #This is used to see if falls off\n",
    "num_steps=[] #placeholder, empty list\n",
    "distance_travelled=[] #placeholder, empty list\n",
    "run_length=[] #placeholder, empty list\n",
    "for i in range(n):  #This is a loop which will go n times\n",
    "    numtimesteps = 0\n",
    "    Numsteps = 0\n",
    "    MtrDetachDecider = 1000  #this makes sure you get into the while loop\n",
    "    while MtrDetachDecider >= 100:\n",
    "        numtimesteps = numtimesteps + 1\n",
    "        MtrStepDecider = random.randrange (ts)\n",
    "        # print('timestep is', numtimesteps, 'MtrStepDecider is', MtrStepDecider, 'MtrDetachDec is', MtrDetachDecider )\n",
    "        if MtrStepDecider <= 100:  #if true, then is attempting to step\n",
    "            MtrDetachDecider = random.randrange(ts)\n",
    "            if MtrDetachDecider > 100:\n",
    "                Numsteps = Numsteps + 1\n",
    "                #print ('entered if loop')\n",
    "                #print ('steps taken so far', Numsteps)\n",
    "    num_steps.append(Numsteps) #append num steps for this iteration i to list\n",
    "    distance_travelled.append(Numsteps*8) #append dist travelled for this iteration i to list\n",
    "    run_length.append(numtimesteps/10000)\n",
    "#make histogram below\n",
    "m, bins, patches = plt.hist(x=distance_travelled, bins='auto', alpha=0.7, rwidth=0.85) #choose bins automatically\n",
    "plt.grid(axis='y', alpha=0.5)\n",
    "plt.xlabel('Run Length (nanometers)')\n",
    "plt.ylabel('Frequency')\n",
    "plt.title('Histogram of 160 trials')\n",
    "maxfreq = m.max()"
   ]
  },
  {
   "cell_type": "code",
   "execution_count": 8,
   "metadata": {},
   "outputs": [
    {
     "data": {
      "image/png": "[encoded data removed]",
      "text/plain": [
       "<Figure size 432x288 with 1 Axes>"
      ]
     },
     "metadata": {
      "needs_background": "light"
     },
     "output_type": "display_data"
    }
   ],
   "source": [
    "#run 1000 trials (will do 10, 20, 40, 80, 160, 1000 individual ‘runs’)\n",
    "n = 1000 # n is the number of runs to simulate\n",
    "ts = 10000 # ts is the number of time steps in a second\n",
    "MtrStepDecider = random.randrange(ts) #this will be used to determine if try to step\n",
    "MtrDetachDecider = random.randrange(ts) #This is used to see if falls off\n",
    "num_steps=[] #placeholder, empty list\n",
    "distance_travelled=[] #placeholder, empty list\n",
    "run_length=[] #placeholder, empty list\n",
    "for i in range(n):  #This is a loop which will go n times\n",
    "    numtimesteps = 0\n",
    "    Numsteps = 0\n",
    "    MtrDetachDecider = 1000  #this makes sure you get into the while loop\n",
    "    while MtrDetachDecider >= 100:\n",
    "        numtimesteps = numtimesteps + 1\n",
    "        MtrStepDecider = random.randrange (ts)\n",
    "        # print('timestep is', numtimesteps, 'MtrStepDecider is', MtrStepDecider, 'MtrDetachDec is', MtrDetachDecider )\n",
    "        if MtrStepDecider <= 100:  #if true, then is attempting to step\n",
    "            MtrDetachDecider = random.randrange(ts)\n",
    "            if MtrDetachDecider > 100:\n",
    "                Numsteps = Numsteps + 1\n",
    "                #print ('entered if loop')\n",
    "                #print ('steps taken so far', Numsteps)\n",
    "    num_steps.append(Numsteps) #append num steps for this iteration i to list\n",
    "    distance_travelled.append(Numsteps*8) #append dist travelled for this iteration i to list\n",
    "    run_length.append(numtimesteps/10000)\n",
    "#make histogram below\n",
    "m, bins, patches = plt.hist(x=distance_travelled, bins='auto', alpha=0.7, rwidth=0.85) #choose bins automatically\n",
    "plt.grid(axis='y', alpha=0.5)\n",
    "plt.xlabel('Run Length (nanometers)')\n",
    "plt.ylabel('Frequency')\n",
    "plt.title('Histogram of 1000 trials')\n",
    "maxfreq = m.max()"
   ]
  },
  {
   "cell_type": "markdown",
   "metadata": {},
   "source": [
    "# Part C  \n",
    "Do motor simulations (as just described) to generate run-lengths. Take different numbers of runs to generate SRS of different sizes, generate histograms of the means. Do means from SRS of 1, 2,4, 8, 16,32,64, 128.  \n",
    "The run-length distributions should be exponential, so SRS of 1 should be an exponential distribution (in Part B you explored how many runs you needed to include in the SRS of 1 in order for it to be apparent that the distribution was a decaying exponent).  \n",
    "As the SRS size gets larger, the distribution of SRSs means should become more and more Gaussian.  \n",
    "Show the distributions, and conclude/discuss when the size of the SRS is such that the distribution of the SRS means looks Gaussian."
   ]
  },
  {
   "cell_type": "markdown",
   "metadata": {},
   "source": [
    "For all of the following histograms I will use n=200 (200 runs) based on the results of part B. 200 runs is enough to show the decaying exponential trend, but it is small enough for my computer to handle quickly."
   ]
  },
  {
   "cell_type": "markdown",
   "metadata": {},
   "source": [
    "Based on the distributions shown below, SRS of 32 or higher seem sufficient to produce a Gaussian-looking distribution (though not perfect). SRS of 128 is the most clearly Gaussian-looking distribution, and I imagine higher SRS values would produce more Gaussian-looking distributions. The higher the SRS, the more perfectly Gaussian the distribution (based on the histograms below)."
   ]
  },
  {
   "cell_type": "code",
   "execution_count": 9,
   "metadata": {},
   "outputs": [
    {
     "data": {
      "image/png": "[encoded data removed]",
      "text/plain": [
       "<Figure size 432x288 with 1 Axes>"
      ]
     },
     "metadata": {
      "needs_background": "light"
     },
     "output_type": "display_data"
    }
   ],
   "source": [
    "#SRS of 1 \n",
    "n = 200 # n is the number of runs to simulate\n",
    "ts = 10000 # ts is the number of time steps in a second\n",
    "MtrStepDecider = random.randrange(ts) #this will be used to determine if try to step\n",
    "MtrDetachDecider = random.randrange(ts) #This is used to see if falls off\n",
    "num_steps=[] #placeholder, empty list\n",
    "distance_travelled=[] #placeholder, empty list\n",
    "run_length=[] #placeholder, empty list\n",
    "for i in range(n):  #This is a loop which will go n times\n",
    "    numtimesteps = 0\n",
    "    Numsteps = 0\n",
    "    MtrDetachDecider = 1000  #this makes sure you get into the while loop\n",
    "    while MtrDetachDecider >= 100:\n",
    "        numtimesteps = numtimesteps + 1\n",
    "        MtrStepDecider = random.randrange (ts)\n",
    "        # print('timestep is', numtimesteps, 'MtrStepDecider is', MtrStepDecider, 'MtrDetachDec is', MtrDetachDecider )\n",
    "        if MtrStepDecider <= 100:  #if true, then is attempting to step\n",
    "            MtrDetachDecider = random.randrange(ts)\n",
    "            if MtrDetachDecider > 100:\n",
    "                Numsteps = Numsteps + 1\n",
    "                #print ('entered if loop')\n",
    "                #print ('steps taken so far', Numsteps)\n",
    "    num_steps.append(Numsteps) #append num steps for this iteration i to list\n",
    "    distance_travelled.append(Numsteps*8) #append dist travelled for this iteration i to list\n",
    "    run_length.append(numtimesteps/10000)\n",
    "#make histogram below\n",
    "m, bins, patches = plt.hist(x=distance_travelled, bins='auto', alpha=0.7, rwidth=0.85) #choose bins automatically\n",
    "plt.grid(axis='y', alpha=0.5)\n",
    "plt.xlabel('Run Length (nanometers)')\n",
    "plt.ylabel('Frequency')\n",
    "plt.title('Histogram with SRS of 1, 200 trials')\n",
    "maxfreq = m.max()"
   ]
  },
  {
   "cell_type": "code",
   "execution_count": 10,
   "metadata": {},
   "outputs": [
    {
     "data": {
      "image/png": "[encoded data removed]",
      "text/plain": [
       "<Figure size 432x288 with 1 Axes>"
      ]
     },
     "metadata": {
      "needs_background": "light"
     },
     "output_type": "display_data"
    }
   ],
   "source": [
    "#SRS of 2\n",
    "SRS=2\n",
    "n = 200 # n is the number of runs to simulate\n",
    "ts = 10000 # ts is the number of time steps in a second\n",
    "MtrStepDecider = random.randrange(ts) #this will be used to determine if try to step\n",
    "MtrDetachDecider = random.randrange(ts) #This is used to see if falls off\n",
    "num_steps=[] #placeholder, empty list\n",
    "distance_travelled=[] #placeholder, empty list\n",
    "run_length=[] #placeholder, empty list\n",
    "for i in range(n*SRS):  #This is a loop which will go n times\n",
    "    numtimesteps = 0\n",
    "    Numsteps = 0\n",
    "    MtrDetachDecider = 1000  #this makes sure you get into the while loop\n",
    "    while MtrDetachDecider >= 100:\n",
    "        numtimesteps = numtimesteps + 1\n",
    "        MtrStepDecider = random.randrange (ts)\n",
    "        # print('timestep is', numtimesteps, 'MtrStepDecider is', MtrStepDecider, 'MtrDetachDec is', MtrDetachDecider )\n",
    "        if MtrStepDecider <= 100:  #if true, then is attempting to step\n",
    "            MtrDetachDecider = random.randrange(ts)\n",
    "            if MtrDetachDecider > 100:\n",
    "                Numsteps = Numsteps + 1\n",
    "                #print ('entered if loop')\n",
    "                #print ('steps taken so far', Numsteps)\n",
    "    num_steps.append(Numsteps) #append num steps for this iteration i to list\n",
    "    distance_travelled.append(Numsteps*8) #append dist travelled for this iteration i to list\n",
    "    run_length.append(numtimesteps/10000)\n",
    "#calculate average run_length of each sample\n",
    "distance_travelled_reshape=np.reshape(distance_travelled, (SRS, int(len(distance_travelled)/SRS)))\n",
    "distance_travelled_mean=np.mean(distance_travelled_reshape, axis=0)\n",
    "#make histogram below\n",
    "m, bins, patches = plt.hist(x=distance_travelled_mean, bins='auto', alpha=0.7, rwidth=0.85) #choose bins automatically\n",
    "plt.grid(axis='y', alpha=0.5)\n",
    "plt.xlabel('Run Length (nanometers)')\n",
    "plt.ylabel('Frequency')\n",
    "plt.title('Histogram with SRS of 2, 200 trials')\n",
    "maxfreq = m.max()"
   ]
  },
  {
   "cell_type": "code",
   "execution_count": 11,
   "metadata": {},
   "outputs": [
    {
     "data": {
      "image/png": "[encoded data removed]",
      "text/plain": [
       "<Figure size 432x288 with 1 Axes>"
      ]
     },
     "metadata": {
      "needs_background": "light"
     },
     "output_type": "display_data"
    }
   ],
   "source": [
    "#SRS of 4\n",
    "SRS=4\n",
    "n = 200 # n is the number of runs to simulate\n",
    "ts = 10000 # ts is the number of time steps in a second\n",
    "MtrStepDecider = random.randrange(ts) #this will be used to determine if try to step\n",
    "MtrDetachDecider = random.randrange(ts) #This is used to see if falls off\n",
    "num_steps=[] #placeholder, empty list\n",
    "distance_travelled=[] #placeholder, empty list\n",
    "run_length=[] #placeholder, empty list\n",
    "for i in range(n*SRS):  #This is a loop which will go n times\n",
    "    numtimesteps = 0\n",
    "    Numsteps = 0\n",
    "    MtrDetachDecider = 1000  #this makes sure you get into the while loop\n",
    "    while MtrDetachDecider >= 100:\n",
    "        numtimesteps = numtimesteps + 1\n",
    "        MtrStepDecider = random.randrange (ts)\n",
    "        # print('timestep is', numtimesteps, 'MtrStepDecider is', MtrStepDecider, 'MtrDetachDec is', MtrDetachDecider )\n",
    "        if MtrStepDecider <= 100:  #if true, then is attempting to step\n",
    "            MtrDetachDecider = random.randrange(ts)\n",
    "            if MtrDetachDecider > 100:\n",
    "                Numsteps = Numsteps + 1\n",
    "                #print ('entered if loop')\n",
    "                #print ('steps taken so far', Numsteps)\n",
    "    num_steps.append(Numsteps) #append num steps for this iteration i to list\n",
    "    distance_travelled.append(Numsteps*8) #append dist travelled for this iteration i to list\n",
    "    run_length.append(numtimesteps/10000)\n",
    "#calculate average run_length of each sample\n",
    "distance_travelled_reshape=np.reshape(distance_travelled, (SRS, int(len(distance_travelled)/SRS)))\n",
    "distance_travelled_mean=np.mean(distance_travelled_reshape, axis=0)\n",
    "#make histogram below\n",
    "m, bins, patches = plt.hist(x=distance_travelled_mean, bins='auto', alpha=0.7, rwidth=0.85) #choose bins automatically\n",
    "plt.grid(axis='y', alpha=0.5)\n",
    "plt.xlabel('Run Length (nanometers)')\n",
    "plt.ylabel('Frequency')\n",
    "plt.title('Histogram with SRS of 4, 200 trials')\n",
    "maxfreq = m.max()"
   ]
  },
  {
   "cell_type": "code",
   "execution_count": 12,
   "metadata": {},
   "outputs": [
    {
     "data": {
      "image/png": "[encoded data removed]",
      "text/plain": [
       "<Figure size 432x288 with 1 Axes>"
      ]
     },
     "metadata": {
      "needs_background": "light"
     },
     "output_type": "display_data"
    }
   ],
   "source": [
    "#SRS of 8\n",
    "SRS=8\n",
    "n = 200 # n is the number of runs to simulate\n",
    "ts = 10000 # ts is the number of time steps in a second\n",
    "MtrStepDecider = random.randrange(ts) #this will be used to determine if try to step\n",
    "MtrDetachDecider = random.randrange(ts) #This is used to see if falls off\n",
    "num_steps=[] #placeholder, empty list\n",
    "distance_travelled=[] #placeholder, empty list\n",
    "run_length=[] #placeholder, empty list\n",
    "for i in range(n*SRS):  #This is a loop which will go n times\n",
    "    numtimesteps = 0\n",
    "    Numsteps = 0\n",
    "    MtrDetachDecider = 1000  #this makes sure you get into the while loop\n",
    "    while MtrDetachDecider >= 100:\n",
    "        numtimesteps = numtimesteps + 1\n",
    "        MtrStepDecider = random.randrange (ts)\n",
    "        # print('timestep is', numtimesteps, 'MtrStepDecider is', MtrStepDecider, 'MtrDetachDec is', MtrDetachDecider )\n",
    "        if MtrStepDecider <= 100:  #if true, then is attempting to step\n",
    "            MtrDetachDecider = random.randrange(ts)\n",
    "            if MtrDetachDecider > 100:\n",
    "                Numsteps = Numsteps + 1\n",
    "                #print ('entered if loop')\n",
    "                #print ('steps taken so far', Numsteps)\n",
    "    num_steps.append(Numsteps) #append num steps for this iteration i to list\n",
    "    distance_travelled.append(Numsteps*8) #append dist travelled for this iteration i to list\n",
    "    run_length.append(numtimesteps/10000)\n",
    "#calculate average run_length of each sample\n",
    "distance_travelled_reshape=np.reshape(distance_travelled, (SRS, int(len(distance_travelled)/SRS)))\n",
    "distance_travelled_mean=np.mean(distance_travelled_reshape, axis=0)\n",
    "#make histogram below\n",
    "m, bins, patches = plt.hist(x=distance_travelled_mean, bins='auto', alpha=0.7, rwidth=0.85) #choose bins automatically\n",
    "plt.grid(axis='y', alpha=0.5)\n",
    "plt.xlabel('Run Length (nanometers)')\n",
    "plt.ylabel('Frequency')\n",
    "plt.title('Histogram with SRS of 8, 200 trials')\n",
    "maxfreq = m.max()"
   ]
  },
  {
   "cell_type": "code",
   "execution_count": 13,
   "metadata": {},
   "outputs": [
    {
     "data": {
      "image/png": "[encoded data removed]",
      "text/plain": [
       "<Figure size 432x288 with 1 Axes>"
      ]
     },
     "metadata": {
      "needs_background": "light"
     },
     "output_type": "display_data"
    }
   ],
   "source": [
    "#SRS of 16\n",
    "SRS=16\n",
    "n = 200 # n is the number of runs to simulate\n",
    "ts = 10000 # ts is the number of time steps in a second\n",
    "MtrStepDecider = random.randrange(ts) #this will be used to determine if try to step\n",
    "MtrDetachDecider = random.randrange(ts) #This is used to see if falls off\n",
    "num_steps=[] #placeholder, empty list\n",
    "distance_travelled=[] #placeholder, empty list\n",
    "run_length=[] #placeholder, empty list\n",
    "for i in range(n*SRS):  #This is a loop which will go n times\n",
    "    numtimesteps = 0\n",
    "    Numsteps = 0\n",
    "    MtrDetachDecider = 1000  #this makes sure you get into the while loop\n",
    "    while MtrDetachDecider >= 100:\n",
    "        numtimesteps = numtimesteps + 1\n",
    "        MtrStepDecider = random.randrange (ts)\n",
    "        # print('timestep is', numtimesteps, 'MtrStepDecider is', MtrStepDecider, 'MtrDetachDec is', MtrDetachDecider )\n",
    "        if MtrStepDecider <= 100:  #if true, then is attempting to step\n",
    "            MtrDetachDecider = random.randrange(ts)\n",
    "            if MtrDetachDecider > 100:\n",
    "                Numsteps = Numsteps + 1\n",
    "                #print ('entered if loop')\n",
    "                #print ('steps taken so far', Numsteps)\n",
    "    num_steps.append(Numsteps) #append num steps for this iteration i to list\n",
    "    distance_travelled.append(Numsteps*8) #append dist travelled for this iteration i to list\n",
    "    run_length.append(numtimesteps/10000)\n",
    "#calculate average run_length of each sample\n",
    "distance_travelled_reshape=np.reshape(distance_travelled, (SRS, int(len(distance_travelled)/SRS)))\n",
    "distance_travelled_mean=np.mean(distance_travelled_reshape, axis=0)\n",
    "#make histogram below\n",
    "m, bins, patches = plt.hist(x=distance_travelled_mean, bins='auto', alpha=0.7, rwidth=0.85) #choose bins automatically\n",
    "plt.grid(axis='y', alpha=0.5)\n",
    "plt.xlabel('Run Length (nanometers)')\n",
    "plt.ylabel('Frequency')\n",
    "plt.title('Histogram with SRS of 16, 200 trials')\n",
    "maxfreq = m.max()"
   ]
  },
  {
   "cell_type": "code",
   "execution_count": 14,
   "metadata": {},
   "outputs": [
    {
     "data": {
      "image/png": "[encoded data removed]",
      "text/plain": [
       "<Figure size 432x288 with 1 Axes>"
      ]
     },
     "metadata": {
      "needs_background": "light"
     },
     "output_type": "display_data"
    }
   ],
   "source": [
    "#SRS of 32\n",
    "SRS=32\n",
    "n = 200 # n is the number of runs to simulate\n",
    "ts = 10000 # ts is the number of time steps in a second\n",
    "MtrStepDecider = random.randrange(ts) #this will be used to determine if try to step\n",
    "MtrDetachDecider = random.randrange(ts) #This is used to see if falls off\n",
    "num_steps=[] #placeholder, empty list\n",
    "distance_travelled=[] #placeholder, empty list\n",
    "run_length=[] #placeholder, empty list\n",
    "for i in range(n*SRS):  #This is a loop which will go n times\n",
    "    numtimesteps = 0\n",
    "    Numsteps = 0\n",
    "    MtrDetachDecider = 1000  #this makes sure you get into the while loop\n",
    "    while MtrDetachDecider >= 100:\n",
    "        numtimesteps = numtimesteps + 1\n",
    "        MtrStepDecider = random.randrange (ts)\n",
    "        # print('timestep is', numtimesteps, 'MtrStepDecider is', MtrStepDecider, 'MtrDetachDec is', MtrDetachDecider )\n",
    "        if MtrStepDecider <= 100:  #if true, then is attempting to step\n",
    "            MtrDetachDecider = random.randrange(ts)\n",
    "            if MtrDetachDecider > 100:\n",
    "                Numsteps = Numsteps + 1\n",
    "                #print ('entered if loop')\n",
    "                #print ('steps taken so far', Numsteps)\n",
    "    num_steps.append(Numsteps) #append num steps for this iteration i to list\n",
    "    distance_travelled.append(Numsteps*8) #append dist travelled for this iteration i to list\n",
    "    run_length.append(numtimesteps/10000)\n",
    "#calculate average run_length of each sample\n",
    "distance_travelled_reshape=np.reshape(distance_travelled, (SRS, int(len(distance_travelled)/SRS)))\n",
    "distance_travelled_mean=np.mean(distance_travelled_reshape, axis=0)\n",
    "#make histogram below\n",
    "m, bins, patches = plt.hist(x=distance_travelled_mean, bins='auto', alpha=0.7, rwidth=0.85) #choose bins automatically\n",
    "plt.grid(axis='y', alpha=0.5)\n",
    "plt.xlabel('Run Length (nanometers)')\n",
    "plt.ylabel('Frequency')\n",
    "plt.title('Histogram with SRS of 32, 200 trials')\n",
    "maxfreq = m.max()"
   ]
  },
  {
   "cell_type": "code",
   "execution_count": 15,
   "metadata": {},
   "outputs": [
    {
     "data": {
      "image/png": "[encoded data removed]",
      "text/plain": [
       "<Figure size 432x288 with 1 Axes>"
      ]
     },
     "metadata": {
      "needs_background": "light"
     },
     "output_type": "display_data"
    }
   ],
   "source": [
    "#SRS of 64\n",
    "SRS=64\n",
    "n = 200 # n is the number of runs to simulate\n",
    "ts = 10000 # ts is the number of time steps in a second\n",
    "MtrStepDecider = random.randrange(ts) #this will be used to determine if try to step\n",
    "MtrDetachDecider = random.randrange(ts) #This is used to see if falls off\n",
    "num_steps=[] #placeholder, empty list\n",
    "distance_travelled=[] #placeholder, empty list\n",
    "run_length=[] #placeholder, empty list\n",
    "for i in range(n*SRS):  #This is a loop which will go n times\n",
    "    numtimesteps = 0\n",
    "    Numsteps = 0\n",
    "    MtrDetachDecider = 1000  #this makes sure you get into the while loop\n",
    "    while MtrDetachDecider >= 100:\n",
    "        numtimesteps = numtimesteps + 1\n",
    "        MtrStepDecider = random.randrange (ts)\n",
    "        # print('timestep is', numtimesteps, 'MtrStepDecider is', MtrStepDecider, 'MtrDetachDec is', MtrDetachDecider )\n",
    "        if MtrStepDecider <= 100:  #if true, then is attempting to step\n",
    "            MtrDetachDecider = random.randrange(ts)\n",
    "            if MtrDetachDecider > 100:\n",
    "                Numsteps = Numsteps + 1\n",
    "                #print ('entered if loop')\n",
    "                #print ('steps taken so far', Numsteps)\n",
    "    num_steps.append(Numsteps) #append num steps for this iteration i to list\n",
    "    distance_travelled.append(Numsteps*8) #append dist travelled for this iteration i to list\n",
    "    run_length.append(numtimesteps/10000)\n",
    "#calculate average run_length of each sample\n",
    "distance_travelled_reshape=np.reshape(distance_travelled, (SRS, int(len(distance_travelled)/SRS)))\n",
    "distance_travelled_mean=np.mean(distance_travelled_reshape, axis=0)\n",
    "#make histogram below\n",
    "m, bins, patches = plt.hist(x=distance_travelled_mean, bins='auto', alpha=0.7, rwidth=0.85) #choose bins automatically\n",
    "plt.grid(axis='y', alpha=0.5)\n",
    "plt.xlabel('Run Length (nanometers)')\n",
    "plt.ylabel('Frequency')\n",
    "plt.title('Histogram with SRS of 64, 200 trials')\n",
    "maxfreq = m.max()"
   ]
  },
  {
   "cell_type": "code",
   "execution_count": 16,
   "metadata": {},
   "outputs": [
    {
     "data": {
      "image/png": "[encoded data removed]",
      "text/plain": [
       "<Figure size 432x288 with 1 Axes>"
      ]
     },
     "metadata": {
      "needs_background": "light"
     },
     "output_type": "display_data"
    }
   ],
   "source": [
    "#SRS of 128\n",
    "SRS=128\n",
    "n = 200 # n is the number of runs to simulate\n",
    "ts = 10000 # ts is the number of time steps in a second\n",
    "MtrStepDecider = random.randrange(ts) #this will be used to determine if try to step\n",
    "MtrDetachDecider = random.randrange(ts) #This is used to see if falls off\n",
    "num_steps=[] #placeholder, empty list\n",
    "distance_travelled=[] #placeholder, empty list\n",
    "run_length=[] #placeholder, empty list\n",
    "for i in range(n*SRS):  #This is a loop which will go n times\n",
    "    numtimesteps = 0\n",
    "    Numsteps = 0\n",
    "    MtrDetachDecider = 1000  #this makes sure you get into the while loop\n",
    "    while MtrDetachDecider >= 100:\n",
    "        numtimesteps = numtimesteps + 1\n",
    "        MtrStepDecider = random.randrange (ts)\n",
    "        # print('timestep is', numtimesteps, 'MtrStepDecider is', MtrStepDecider, 'MtrDetachDec is', MtrDetachDecider )\n",
    "        if MtrStepDecider <= 100:  #if true, then is attempting to step\n",
    "            MtrDetachDecider = random.randrange(ts)\n",
    "            if MtrDetachDecider > 100:\n",
    "                Numsteps = Numsteps + 1\n",
    "                #print ('entered if loop')\n",
    "                #print ('steps taken so far', Numsteps)\n",
    "    num_steps.append(Numsteps) #append num steps for this iteration i to list\n",
    "    distance_travelled.append(Numsteps*8) #append dist travelled for this iteration i to list\n",
    "    run_length.append(numtimesteps/10000)\n",
    "#calculate average run_length of each sample\n",
    "distance_travelled_reshape=np.reshape(distance_travelled, (SRS, int(len(distance_travelled)/SRS)))\n",
    "distance_travelled_mean=np.mean(distance_travelled_reshape, axis=0)\n",
    "#make histogram below\n",
    "m, bins, patches = plt.hist(x=distance_travelled_mean, bins='auto', alpha=0.7, rwidth=0.85) #choose bins automatically\n",
    "plt.grid(axis='y', alpha=0.5)\n",
    "plt.xlabel('Run Length (nanometers)')\n",
    "plt.ylabel('Frequency')\n",
    "plt.title('Histogram with SRS of 128, 200 trials')\n",
    "maxfreq = m.max()"
   ]
  },
  {
   "cell_type": "markdown",
   "metadata": {},
   "source": [
    "# Part D  \n",
    "Determine what sample size is required for reasonable estimate of the distribution’s properties. First,\n",
    "confirm that your simulation is working correctly—generate a really large number of runs (eg 100,000,\n",
    "and confirm that the mean travel is about 800 nm. If not, there is a problem in your simulation). Next,\n",
    "use a variety of sample sizes, starting from SRS of 1, and using SRS of 2, 4,8,16,32,64, 128 and 256,\n",
    "generate many SRS samples of that size, and for each determine a 95% CI (using standard t-test\n",
    "approach discussed in class). Then, determine whether the calculated CI contains the actual mean of the\n",
    "population (which you know to be 800 nm, or whatever you got from the 100000 measurement, by\n",
    "construction). Then, for that sample size, determine the proportion of correct events, i.e. the number of\n",
    "tests that included 800, divided by the total number of tests. Plot a graph of the proportion, as a\n",
    "function of the number of elements in the sample. At some point (i.e. for some sample size N), the\n",
    "proportion should get close to 0.95. When is that?  \n",
    "Finally, for each sample size, use the statistic we discussed in class (on proportions): for each sample\n",
    "size, does the proportion 95% CI include 0.95?  \n",
    "Although I originally suggested a few different sample sizes, feel free to go beyond those sizes as you see\n",
    "fit.  \n",
    "From all of this, summarize what you have learned about sample size, t-tests, and skewed distributions.  \n",
    "These tasks are completed and questions answered below."
   ]
  },
  {
   "cell_type": "markdown",
   "metadata": {},
   "source": [
    "The cell below confirms that the mean of the distance travelled is around 800 nm for 100,000 runs."
   ]
  },
  {
   "cell_type": "code",
   "execution_count": 17,
   "metadata": {},
   "outputs": [
    {
     "name": "stdout",
     "output_type": "stream",
     "text": [
      "The true mean is about  791.90672  nanometers.\n"
     ]
    }
   ],
   "source": [
    "#run 100000 trials\n",
    "n = 100000 # n is the number of runs to simulate\n",
    "SRS =1\n",
    "ts = 10000 # ts is the number of time steps in a second\n",
    "MtrStepDecider = random.randrange(ts) #this will be used to determine if try to step\n",
    "MtrDetachDecider = random.randrange(ts) #This is used to see if falls off\n",
    "num_steps=[] #placeholder, empty list\n",
    "distance_travelled=[] #placeholder, empty list\n",
    "run_length=[] #placeholder, empty list\n",
    "for i in range(n*SRS):  #This is a loop which will go n times\n",
    "    numtimesteps = 0\n",
    "    Numsteps = 0\n",
    "    MtrDetachDecider = 1000  #this makes sure you get into the while loop\n",
    "    while MtrDetachDecider >= 100:\n",
    "        numtimesteps = numtimesteps + 1\n",
    "        MtrStepDecider = random.randrange (ts)\n",
    "        # print('timestep is', numtimesteps, 'MtrStepDecider is', MtrStepDecider, 'MtrDetachDec is', MtrDetachDecider )\n",
    "        if MtrStepDecider <= 100:  #if true, then is attempting to step\n",
    "            MtrDetachDecider = random.randrange(ts)\n",
    "            if MtrDetachDecider > 100:\n",
    "                Numsteps = Numsteps + 1\n",
    "                #print ('entered if loop')\n",
    "                #print ('steps taken so far', Numsteps)\n",
    "    num_steps.append(Numsteps) #append num steps for this iteration i to list\n",
    "    distance_travelled.append(Numsteps*8) #append dist travelled for this iteration i to list\n",
    "    run_length.append(numtimesteps/10000)\n",
    "true_mean=np.mean(distance_travelled) # in nanometers/sec\n",
    "print(\"The true mean is about \",true_mean,\" nanometers.\")"
   ]
  },
  {
   "cell_type": "markdown",
   "metadata": {},
   "source": [
    "Using SRS of 2, 4,8,16,32,64, 128 and 256, generate many SRS samples of that size, and for each determine a 95% CI (using standard t-test approach discussed in class)."
   ]
  },
  {
   "cell_type": "markdown",
   "metadata": {},
   "source": [
    "SRS of 2 is run below with 200 trials.  \n",
    "95% CI is determined and saved.  \n",
    "Next, I determine whether the calculated CI contains the actual mean of the\n",
    "population (printed the proportion in output)."
   ]
  },
  {
   "cell_type": "code",
   "execution_count": 18,
   "metadata": {},
   "outputs": [
    {
     "name": "stdout",
     "output_type": "stream",
     "text": [
      "200 95% CIs were calculated for SRS of  2 . These are stored in CI2low and CI2high.\n",
      "91.0 % of the 95% CIs contain the true mean of  791.90672  with SRS of  2 .\n"
     ]
    }
   ],
   "source": [
    "#SRS of 2\n",
    "SRS=2\n",
    "t = stats.t.ppf(1-((100-95)/2/100), SRS-1) #calculate t value for this SRS\n",
    "n = 200 # n is the number of runs to simulate\n",
    "ts = 10000 # ts is the number of time steps in a second\n",
    "MtrStepDecider = random.randrange(ts) #this will be used to determine if try to step\n",
    "MtrDetachDecider = random.randrange(ts) #This is used to see if falls off\n",
    "num_steps=[] #placeholder, empty list\n",
    "distance_travelled=[] #placeholder, empty list\n",
    "run_length=[] #placeholder, empty list\n",
    "for i in range(n*SRS):  #This is a loop which will go n times\n",
    "    numtimesteps = 0\n",
    "    Numsteps = 0\n",
    "    MtrDetachDecider = 1000  #this makes sure you get into the while loop\n",
    "    while MtrDetachDecider >= 100:\n",
    "        numtimesteps = numtimesteps + 1\n",
    "        MtrStepDecider = random.randrange (ts)\n",
    "        # print('timestep is', numtimesteps, 'MtrStepDecider is', MtrStepDecider, 'MtrDetachDec is', MtrDetachDecider )\n",
    "        if MtrStepDecider <= 100:  #if true, then is attempting to step\n",
    "            MtrDetachDecider = random.randrange(ts)\n",
    "            if MtrDetachDecider > 100:\n",
    "                Numsteps = Numsteps + 1\n",
    "                #print ('entered if loop')\n",
    "                #print ('steps taken so far', Numsteps)\n",
    "    num_steps.append(Numsteps) #append num steps for this iteration i to list\n",
    "    distance_travelled.append(Numsteps*8) #append dist travelled for this iteration i to list\n",
    "    run_length.append(numtimesteps/10000)\n",
    "#calculate average run_length of each sample\n",
    "distance_travelled_reshape=np.reshape(distance_travelled, (SRS, int(len(distance_travelled)/SRS)))\n",
    "#distance_travelled_mean=np.mean(distance_travelled_reshape, axis=0)\n",
    "#95% CI\n",
    "#equations below are mean +- t*std dev/sqrt(n)\n",
    "CI2low=np.mean(distance_travelled_reshape,axis=0)-t*np.std(distance_travelled_reshape,ddof=1,axis=0)/(SRS**.5)\n",
    "CI2high=np.mean(distance_travelled_reshape,axis=0)+t*np.std(distance_travelled_reshape,ddof=1,axis=0)/(SRS**.5)\n",
    "count=0\n",
    "for lo, hi in zip(CI2low, CI2high):\n",
    "    if true_mean >= lo and true_mean <= hi:\n",
    "        count+=1\n",
    "print(\"200 95% CIs were calculated for SRS of \",SRS,\". These are stored in CI2low and CI2high.\")\n",
    "print(100*count/n,\"% of the 95% CIs contain the true mean of \",true_mean,\" with SRS of \",SRS,\".\")\n",
    "prop2=100*count/n"
   ]
  },
  {
   "cell_type": "markdown",
   "metadata": {},
   "source": [
    "SRS of 4 is run below with 200 trials.  \n",
    "95% CI is determined and saved.  \n",
    "Next, I determine whether the calculated CI contains the actual mean of the\n",
    "population (printed the proportion in output)."
   ]
  },
  {
   "cell_type": "code",
   "execution_count": 19,
   "metadata": {},
   "outputs": [
    {
     "name": "stdout",
     "output_type": "stream",
     "text": [
      "200 95% CIs were calculated for SRS of  4 . These are stored in CI4low and CI4high.\n",
      "86.0 % of the 95% CIs contain the true mean of  791.90672  with SRS of  4 .\n"
     ]
    }
   ],
   "source": [
    "#SRS of 4\n",
    "SRS=4\n",
    "t = stats.t.ppf(1-((100-95)/2/100), SRS-1) #calculate t value for this SRS\n",
    "n = 200 # n is the number of runs to simulate\n",
    "ts = 10000 # ts is the number of time steps in a second\n",
    "MtrStepDecider = random.randrange(ts) #this will be used to determine if try to step\n",
    "MtrDetachDecider = random.randrange(ts) #This is used to see if falls off\n",
    "num_steps=[] #placeholder, empty list\n",
    "distance_travelled=[] #placeholder, empty list\n",
    "run_length=[] #placeholder, empty list\n",
    "for i in range(n*SRS):  #This is a loop which will go n times\n",
    "    numtimesteps = 0\n",
    "    Numsteps = 0\n",
    "    MtrDetachDecider = 1000  #this makes sure you get into the while loop\n",
    "    while MtrDetachDecider >= 100:\n",
    "        numtimesteps = numtimesteps + 1\n",
    "        MtrStepDecider = random.randrange (ts)\n",
    "        # print('timestep is', numtimesteps, 'MtrStepDecider is', MtrStepDecider, 'MtrDetachDec is', MtrDetachDecider )\n",
    "        if MtrStepDecider <= 100:  #if true, then is attempting to step\n",
    "            MtrDetachDecider = random.randrange(ts)\n",
    "            if MtrDetachDecider > 100:\n",
    "                Numsteps = Numsteps + 1\n",
    "                #print ('entered if loop')\n",
    "                #print ('steps taken so far', Numsteps)\n",
    "    num_steps.append(Numsteps) #append num steps for this iteration i to list\n",
    "    distance_travelled.append(Numsteps*8) #append dist travelled for this iteration i to list\n",
    "    run_length.append(numtimesteps/10000)\n",
    "#calculate average run_length of each sample\n",
    "distance_travelled_reshape=np.reshape(distance_travelled, (SRS, int(len(distance_travelled)/SRS)))\n",
    "#distance_travelled_mean=np.mean(distance_travelled_reshape, axis=0)\n",
    "#95% CI\n",
    "#equations below are mean +- t*std dev/sqrt(n)\n",
    "CI4low=np.mean(distance_travelled_reshape,axis=0)-t*np.std(distance_travelled_reshape,ddof=1,axis=0)/(SRS**.5)\n",
    "CI4high=np.mean(distance_travelled_reshape,axis=0)+t*np.std(distance_travelled_reshape,ddof=1,axis=0)/(SRS**.5)\n",
    "count=0\n",
    "for lo, hi in zip(CI4low, CI4high):\n",
    "    if true_mean >= lo and true_mean <= hi:\n",
    "        count+=1\n",
    "print(\"200 95% CIs were calculated for SRS of \",SRS,\". These are stored in CI4low and CI4high.\")\n",
    "print(100*count/n,\"% of the 95% CIs contain the true mean of \",true_mean,\" with SRS of \",SRS,\".\")\n",
    "prop4=100*count/n"
   ]
  },
  {
   "cell_type": "markdown",
   "metadata": {},
   "source": [
    "SRS of 8 is run below with 200 trials.  \n",
    "95% CI is determined and saved.  \n",
    "Next, I determine whether the calculated CI contains the actual mean of the\n",
    "population (printed the proportion in output)."
   ]
  },
  {
   "cell_type": "code",
   "execution_count": 20,
   "metadata": {},
   "outputs": [
    {
     "name": "stdout",
     "output_type": "stream",
     "text": [
      "200 95% CIs were calculated for SRS of  8 . These are stored in CI8low and CI8high.\n",
      "89.5 % of the 95% CIs contain the true mean of  791.90672  with SRS of  8 .\n"
     ]
    }
   ],
   "source": [
    "#SRS of 8\n",
    "SRS=8\n",
    "t = stats.t.ppf(1-((100-95)/2/100), SRS-1) #calculate t value for this SRS\n",
    "n = 200 # n is the number of runs to simulate\n",
    "ts = 10000 # ts is the number of time steps in a second\n",
    "MtrStepDecider = random.randrange(ts) #this will be used to determine if try to step\n",
    "MtrDetachDecider = random.randrange(ts) #This is used to see if falls off\n",
    "num_steps=[] #placeholder, empty list\n",
    "distance_travelled=[] #placeholder, empty list\n",
    "run_length=[] #placeholder, empty list\n",
    "for i in range(n*SRS):  #This is a loop which will go n times\n",
    "    numtimesteps = 0\n",
    "    Numsteps = 0\n",
    "    MtrDetachDecider = 1000  #this makes sure you get into the while loop\n",
    "    while MtrDetachDecider >= 100:\n",
    "        numtimesteps = numtimesteps + 1\n",
    "        MtrStepDecider = random.randrange (ts)\n",
    "        # print('timestep is', numtimesteps, 'MtrStepDecider is', MtrStepDecider, 'MtrDetachDec is', MtrDetachDecider )\n",
    "        if MtrStepDecider <= 100:  #if true, then is attempting to step\n",
    "            MtrDetachDecider = random.randrange(ts)\n",
    "            if MtrDetachDecider > 100:\n",
    "                Numsteps = Numsteps + 1\n",
    "                #print ('entered if loop')\n",
    "                #print ('steps taken so far', Numsteps)\n",
    "    num_steps.append(Numsteps) #append num steps for this iteration i to list\n",
    "    distance_travelled.append(Numsteps*8) #append dist travelled for this iteration i to list\n",
    "    run_length.append(numtimesteps/10000)\n",
    "#calculate average run_length of each sample\n",
    "distance_travelled_reshape=np.reshape(distance_travelled, (SRS, int(len(distance_travelled)/SRS)))\n",
    "#distance_travelled_mean=np.mean(distance_travelled_reshape, axis=0)\n",
    "#95% CI\n",
    "#equations below are mean +- t*std dev/sqrt(n)\n",
    "CI8low=np.mean(distance_travelled_reshape,axis=0)-t*np.std(distance_travelled_reshape,ddof=1,axis=0)/(SRS**.5)\n",
    "CI8high=np.mean(distance_travelled_reshape,axis=0)+t*np.std(distance_travelled_reshape,ddof=1,axis=0)/(SRS**.5)\n",
    "count=0\n",
    "for lo, hi in zip(CI8low, CI8high):\n",
    "    if true_mean >= lo and true_mean <= hi:\n",
    "        count+=1\n",
    "print(\"200 95% CIs were calculated for SRS of \",SRS,\". These are stored in CI8low and CI8high.\")\n",
    "print(100*count/n,\"% of the 95% CIs contain the true mean of \",true_mean,\" with SRS of \",SRS,\".\")\n",
    "prop8=100*count/n"
   ]
  },
  {
   "cell_type": "markdown",
   "metadata": {},
   "source": [
    "SRS of 16 is run below with 200 trials.  \n",
    "95% CI is determined and saved.  \n",
    "Next, I determine whether the calculated CI contains the actual mean of the\n",
    "population (printed the proportion in output)."
   ]
  },
  {
   "cell_type": "code",
   "execution_count": 21,
   "metadata": {},
   "outputs": [
    {
     "name": "stdout",
     "output_type": "stream",
     "text": [
      "200 95% CIs were calculated for SRS of  16 . These are stored in CI16low and CI16high.\n",
      "90.5 % of the 95% CIs contain the true mean of  791.90672  with SRS of  16 .\n"
     ]
    }
   ],
   "source": [
    "#SRS of 16\n",
    "SRS=16\n",
    "t = stats.t.ppf(1-((100-95)/2/100), SRS-1) #calculate t value for this SRS\n",
    "n = 200 # n is the number of runs to simulate\n",
    "ts = 10000 # ts is the number of time steps in a second\n",
    "MtrStepDecider = random.randrange(ts) #this will be used to determine if try to step\n",
    "MtrDetachDecider = random.randrange(ts) #This is used to see if falls off\n",
    "num_steps=[] #placeholder, empty list\n",
    "distance_travelled=[] #placeholder, empty list\n",
    "run_length=[] #placeholder, empty list\n",
    "for i in range(n*SRS):  #This is a loop which will go n times\n",
    "    numtimesteps = 0\n",
    "    Numsteps = 0\n",
    "    MtrDetachDecider = 1000  #this makes sure you get into the while loop\n",
    "    while MtrDetachDecider >= 100:\n",
    "        numtimesteps = numtimesteps + 1\n",
    "        MtrStepDecider = random.randrange (ts)\n",
    "        # print('timestep is', numtimesteps, 'MtrStepDecider is', MtrStepDecider, 'MtrDetachDec is', MtrDetachDecider )\n",
    "        if MtrStepDecider <= 100:  #if true, then is attempting to step\n",
    "            MtrDetachDecider = random.randrange(ts)\n",
    "            if MtrDetachDecider > 100:\n",
    "                Numsteps = Numsteps + 1\n",
    "                #print ('entered if loop')\n",
    "                #print ('steps taken so far', Numsteps)\n",
    "    num_steps.append(Numsteps) #append num steps for this iteration i to list\n",
    "    distance_travelled.append(Numsteps*8) #append dist travelled for this iteration i to list\n",
    "    run_length.append(numtimesteps/10000)\n",
    "#calculate average run_length of each sample\n",
    "distance_travelled_reshape=np.reshape(distance_travelled, (SRS, int(len(distance_travelled)/SRS)))\n",
    "#distance_travelled_mean=np.mean(distance_travelled_reshape, axis=0)\n",
    "#95% CI\n",
    "#equations below are mean +- t*std dev/sqrt(n)\n",
    "CI16low=np.mean(distance_travelled_reshape,axis=0)-t*np.std(distance_travelled_reshape,ddof=1,axis=0)/(SRS**.5)\n",
    "CI16high=np.mean(distance_travelled_reshape,axis=0)+t*np.std(distance_travelled_reshape,ddof=1,axis=0)/(SRS**.5)\n",
    "count=0\n",
    "for lo, hi in zip(CI16low, CI16high):\n",
    "    if true_mean >= lo and true_mean <= hi:\n",
    "        count+=1\n",
    "print(\"200 95% CIs were calculated for SRS of \",SRS,\". These are stored in CI16low and CI16high.\")\n",
    "print(100*count/n,\"% of the 95% CIs contain the true mean of \",true_mean,\" with SRS of \",SRS,\".\")\n",
    "prop16=100*count/n"
   ]
  },
  {
   "cell_type": "markdown",
   "metadata": {},
   "source": [
    "SRS of 32 is run below with 200 trials.  \n",
    "95% CI is determined and saved.  \n",
    "Next, I determine whether the calculated CI contains the actual mean of the\n",
    "population (printed the proportion in output)."
   ]
  },
  {
   "cell_type": "code",
   "execution_count": 22,
   "metadata": {},
   "outputs": [
    {
     "name": "stdout",
     "output_type": "stream",
     "text": [
      "200 95% CIs were calculated for SRS of  32 . These are stored in CI32low and CI32high.\n",
      "91.0 % of the 95% CIs contain the true mean of  791.90672  with SRS of  32 .\n"
     ]
    }
   ],
   "source": [
    "#SRS of 32\n",
    "SRS=32\n",
    "t = stats.t.ppf(1-((100-95)/2/100), SRS-1) #calculate t value for this SRS\n",
    "n = 200 # n is the number of runs to simulate\n",
    "ts = 10000 # ts is the number of time steps in a second\n",
    "MtrStepDecider = random.randrange(ts) #this will be used to determine if try to step\n",
    "MtrDetachDecider = random.randrange(ts) #This is used to see if falls off\n",
    "num_steps=[] #placeholder, empty list\n",
    "distance_travelled=[] #placeholder, empty list\n",
    "run_length=[] #placeholder, empty list\n",
    "for i in range(n*SRS):  #This is a loop which will go n times\n",
    "    numtimesteps = 0\n",
    "    Numsteps = 0\n",
    "    MtrDetachDecider = 1000  #this makes sure you get into the while loop\n",
    "    while MtrDetachDecider >= 100:\n",
    "        numtimesteps = numtimesteps + 1\n",
    "        MtrStepDecider = random.randrange (ts)\n",
    "        # print('timestep is', numtimesteps, 'MtrStepDecider is', MtrStepDecider, 'MtrDetachDec is', MtrDetachDecider )\n",
    "        if MtrStepDecider <= 100:  #if true, then is attempting to step\n",
    "            MtrDetachDecider = random.randrange(ts)\n",
    "            if MtrDetachDecider > 100:\n",
    "                Numsteps = Numsteps + 1\n",
    "                #print ('entered if loop')\n",
    "                #print ('steps taken so far', Numsteps)\n",
    "    num_steps.append(Numsteps) #append num steps for this iteration i to list\n",
    "    distance_travelled.append(Numsteps*8) #append dist travelled for this iteration i to list\n",
    "    run_length.append(numtimesteps/10000)\n",
    "#calculate average run_length of each sample\n",
    "distance_travelled_reshape=np.reshape(distance_travelled, (SRS, int(len(distance_travelled)/SRS)))\n",
    "#distance_travelled_mean=np.mean(distance_travelled_reshape, axis=0)\n",
    "#95% CI\n",
    "#equations below are mean +- t*std dev/sqrt(n)\n",
    "CI32low=np.mean(distance_travelled_reshape,axis=0)-t*np.std(distance_travelled_reshape,ddof=1,axis=0)/(SRS**.5)\n",
    "CI32high=np.mean(distance_travelled_reshape,axis=0)+t*np.std(distance_travelled_reshape,ddof=1,axis=0)/(SRS**.5)\n",
    "count=0\n",
    "for lo, hi in zip(CI32low, CI32high):\n",
    "    if true_mean >= lo and true_mean <= hi:\n",
    "        count+=1\n",
    "print(\"200 95% CIs were calculated for SRS of \",SRS,\". These are stored in CI32low and CI32high.\")\n",
    "print(100*count/n,\"% of the 95% CIs contain the true mean of \",true_mean,\" with SRS of \",SRS,\".\")\n",
    "prop32=100*count/n"
   ]
  },
  {
   "cell_type": "markdown",
   "metadata": {},
   "source": [
    "SRS of 64 is run below with 200 trials.  \n",
    "95% CI is determined and saved.  \n",
    "Next, I determine whether the calculated CI contains the actual mean of the\n",
    "population (printed the proportion in output)."
   ]
  },
  {
   "cell_type": "code",
   "execution_count": 23,
   "metadata": {},
   "outputs": [
    {
     "name": "stdout",
     "output_type": "stream",
     "text": [
      "200 95% CIs were calculated for SRS of  64 . These are stored in CI64low and CI64high.\n",
      "93.5 % of the 95% CIs contain the true mean of  791.90672  with SRS of  64 .\n"
     ]
    }
   ],
   "source": [
    "#SRS of 64\n",
    "SRS=64\n",
    "t = stats.t.ppf(1-((100-95)/2/100), SRS-1) #calculate t value for this SRS\n",
    "n = 200 # n is the number of runs to simulate\n",
    "ts = 10000 # ts is the number of time steps in a second\n",
    "MtrStepDecider = random.randrange(ts) #this will be used to determine if try to step\n",
    "MtrDetachDecider = random.randrange(ts) #This is used to see if falls off\n",
    "num_steps=[] #placeholder, empty list\n",
    "distance_travelled=[] #placeholder, empty list\n",
    "run_length=[] #placeholder, empty list\n",
    "for i in range(n*SRS):  #This is a loop which will go n times\n",
    "    numtimesteps = 0\n",
    "    Numsteps = 0\n",
    "    MtrDetachDecider = 1000  #this makes sure you get into the while loop\n",
    "    while MtrDetachDecider >= 100:\n",
    "        numtimesteps = numtimesteps + 1\n",
    "        MtrStepDecider = random.randrange (ts)\n",
    "        # print('timestep is', numtimesteps, 'MtrStepDecider is', MtrStepDecider, 'MtrDetachDec is', MtrDetachDecider )\n",
    "        if MtrStepDecider <= 100:  #if true, then is attempting to step\n",
    "            MtrDetachDecider = random.randrange(ts)\n",
    "            if MtrDetachDecider > 100:\n",
    "                Numsteps = Numsteps + 1\n",
    "                #print ('entered if loop')\n",
    "                #print ('steps taken so far', Numsteps)\n",
    "    num_steps.append(Numsteps) #append num steps for this iteration i to list\n",
    "    distance_travelled.append(Numsteps*8) #append dist travelled for this iteration i to list\n",
    "    run_length.append(numtimesteps/10000)\n",
    "#calculate average run_length of each sample\n",
    "distance_travelled_reshape=np.reshape(distance_travelled, (SRS, int(len(distance_travelled)/SRS)))\n",
    "#distance_travelled_mean=np.mean(distance_travelled_reshape, axis=0)\n",
    "#95% CI\n",
    "#equations below are mean +- t*std dev/sqrt(n)\n",
    "CI64low=np.mean(distance_travelled_reshape,axis=0)-t*np.std(distance_travelled_reshape,ddof=1,axis=0)/(SRS**.5)\n",
    "CI64high=np.mean(distance_travelled_reshape,axis=0)+t*np.std(distance_travelled_reshape,ddof=1,axis=0)/(SRS**.5)\n",
    "count=0\n",
    "for lo, hi in zip(CI64low, CI64high):\n",
    "    if true_mean >= lo and true_mean <= hi:\n",
    "        count+=1\n",
    "print(\"200 95% CIs were calculated for SRS of \",SRS,\". These are stored in CI64low and CI64high.\")\n",
    "print(100*count/n,\"% of the 95% CIs contain the true mean of \",true_mean,\" with SRS of \",SRS,\".\")\n",
    "prop64=100*count/n"
   ]
  },
  {
   "cell_type": "markdown",
   "metadata": {},
   "source": [
    "SRS of 128 is run below with 200 trials.  \n",
    "95% CI is determined and saved.  \n",
    "Next, I determine whether the calculated CI contains the actual mean of the\n",
    "population (printed the proportion in output)."
   ]
  },
  {
   "cell_type": "code",
   "execution_count": 24,
   "metadata": {},
   "outputs": [
    {
     "name": "stdout",
     "output_type": "stream",
     "text": [
      "200 95% CIs were calculated for SRS of  128 . These are stored in CI128low and CI128high.\n",
      "93.0 % of the 95% CIs contain the true mean of  791.90672  with SRS of  128 .\n"
     ]
    }
   ],
   "source": [
    "#SRS of 128\n",
    "SRS=128\n",
    "t = stats.t.ppf(1-((100-95)/2/100), SRS-1) #calculate t value for this SRS\n",
    "n = 200 # n is the number of runs to simulate\n",
    "ts = 10000 # ts is the number of time steps in a second\n",
    "MtrStepDecider = random.randrange(ts) #this will be used to determine if try to step\n",
    "MtrDetachDecider = random.randrange(ts) #This is used to see if falls off\n",
    "num_steps=[] #placeholder, empty list\n",
    "distance_travelled=[] #placeholder, empty list\n",
    "run_length=[] #placeholder, empty list\n",
    "for i in range(n*SRS):  #This is a loop which will go n times\n",
    "    numtimesteps = 0\n",
    "    Numsteps = 0\n",
    "    MtrDetachDecider = 1000  #this makes sure you get into the while loop\n",
    "    while MtrDetachDecider >= 100:\n",
    "        numtimesteps = numtimesteps + 1\n",
    "        MtrStepDecider = random.randrange (ts)\n",
    "        # print('timestep is', numtimesteps, 'MtrStepDecider is', MtrStepDecider, 'MtrDetachDec is', MtrDetachDecider )\n",
    "        if MtrStepDecider <= 100:  #if true, then is attempting to step\n",
    "            MtrDetachDecider = random.randrange(ts)\n",
    "            if MtrDetachDecider > 100:\n",
    "                Numsteps = Numsteps + 1\n",
    "                #print ('entered if loop')\n",
    "                #print ('steps taken so far', Numsteps)\n",
    "    num_steps.append(Numsteps) #append num steps for this iteration i to list\n",
    "    distance_travelled.append(Numsteps*8) #append dist travelled for this iteration i to list\n",
    "    run_length.append(numtimesteps/10000)\n",
    "#calculate average run_length of each sample\n",
    "distance_travelled_reshape=np.reshape(distance_travelled, (SRS, int(len(distance_travelled)/SRS)))\n",
    "#distance_travelled_mean=np.mean(distance_travelled_reshape, axis=0)\n",
    "#95% CI\n",
    "#equations below are mean +- t*std dev/sqrt(n)\n",
    "CI128low=np.mean(distance_travelled_reshape,axis=0)-t*np.std(distance_travelled_reshape,ddof=1,axis=0)/(SRS**.5)\n",
    "CI128high=np.mean(distance_travelled_reshape,axis=0)+t*np.std(distance_travelled_reshape,ddof=1,axis=0)/(SRS**.5)\n",
    "count=0\n",
    "for lo, hi in zip(CI128low, CI128high):\n",
    "    if true_mean >= lo and true_mean <= hi:\n",
    "        count+=1\n",
    "print(\"200 95% CIs were calculated for SRS of \",SRS,\". These are stored in CI128low and CI128high.\")\n",
    "print(100*count/n,\"% of the 95% CIs contain the true mean of \",true_mean,\" with SRS of \",SRS,\".\")\n",
    "prop128=100*count/n"
   ]
  },
  {
   "cell_type": "markdown",
   "metadata": {},
   "source": [
    "SRS of 200 is run below with 200 trials.  \n",
    "95% CI is determined and saved.  \n",
    "Next, I determine whether the calculated CI contains the actual mean of the\n",
    "population (printed the proportion in output)."
   ]
  },
  {
   "cell_type": "code",
   "execution_count": 25,
   "metadata": {},
   "outputs": [
    {
     "name": "stdout",
     "output_type": "stream",
     "text": [
      "200 95% CIs were calculated for SRS of  200 . These are stored in CI200low and CI200high.\n",
      "95.0 % of the 95% CIs contain the true mean of  791.90672  with SRS of  200 .\n"
     ]
    }
   ],
   "source": [
    "#SRS of 200\n",
    "SRS=200\n",
    "t = stats.t.ppf(1-((100-95)/2/100), SRS-1) #calculate t value for this SRS\n",
    "n = 200 # n is the number of runs to simulate\n",
    "ts = 10000 # ts is the number of time steps in a second\n",
    "MtrStepDecider = random.randrange(ts) #this will be used to determine if try to step\n",
    "MtrDetachDecider = random.randrange(ts) #This is used to see if falls off\n",
    "num_steps=[] #placeholder, empty list\n",
    "distance_travelled=[] #placeholder, empty list\n",
    "run_length=[] #placeholder, empty list\n",
    "for i in range(n*SRS):  #This is a loop which will go n times\n",
    "    numtimesteps = 0\n",
    "    Numsteps = 0\n",
    "    MtrDetachDecider = 1000  #this makes sure you get into the while loop\n",
    "    while MtrDetachDecider >= 100:\n",
    "        numtimesteps = numtimesteps + 1\n",
    "        MtrStepDecider = random.randrange (ts)\n",
    "        # print('timestep is', numtimesteps, 'MtrStepDecider is', MtrStepDecider, 'MtrDetachDec is', MtrDetachDecider )\n",
    "        if MtrStepDecider <= 100:  #if true, then is attempting to step\n",
    "            MtrDetachDecider = random.randrange(ts)\n",
    "            if MtrDetachDecider > 100:\n",
    "                Numsteps = Numsteps + 1\n",
    "                #print ('entered if loop')\n",
    "                #print ('steps taken so far', Numsteps)\n",
    "    num_steps.append(Numsteps) #append num steps for this iteration i to list\n",
    "    distance_travelled.append(Numsteps*8) #append dist travelled for this iteration i to list\n",
    "    run_length.append(numtimesteps/10000)\n",
    "#calculate average run_length of each sample\n",
    "distance_travelled_reshape=np.reshape(distance_travelled, (SRS, int(len(distance_travelled)/SRS)))\n",
    "#distance_travelled_mean=np.mean(distance_travelled_reshape, axis=0)\n",
    "#95% CI\n",
    "#equations below are mean +- t*std dev/sqrt(n)\n",
    "CI200low=np.mean(distance_travelled_reshape,axis=0)-t*np.std(distance_travelled_reshape,ddof=1,axis=0)/(SRS**.5)\n",
    "CI200high=np.mean(distance_travelled_reshape,axis=0)+t*np.std(distance_travelled_reshape,ddof=1,axis=0)/(SRS**.5)\n",
    "count=0\n",
    "for lo, hi in zip(CI200low, CI200high):\n",
    "    if true_mean >= lo and true_mean <= hi:\n",
    "        count+=1\n",
    "print(\"200 95% CIs were calculated for SRS of \",SRS,\". These are stored in CI200low and CI200high.\")\n",
    "print(100*count/n,\"% of the 95% CIs contain the true mean of \",true_mean,\" with SRS of \",SRS,\".\")\n",
    "prop200=100*count/n"
   ]
  },
  {
   "cell_type": "markdown",
   "metadata": {},
   "source": [
    "SRS of 256 is run below with 200 trials.  \n",
    "95% CI is determined and saved.  \n",
    "Next, I determine whether the calculated CI contains the actual mean of the\n",
    "population (printed the proportion in output)."
   ]
  },
  {
   "cell_type": "code",
   "execution_count": 26,
   "metadata": {},
   "outputs": [
    {
     "name": "stdout",
     "output_type": "stream",
     "text": [
      "200 95% CIs were calculated for SRS of  256 . These are stored in CI256low and CI256high.\n",
      "94.0 % of the 95% CIs contain the true mean of  791.90672  with SRS of  256 .\n"
     ]
    }
   ],
   "source": [
    "#SRS of 256\n",
    "SRS=256\n",
    "t = stats.t.ppf(1-((100-95)/2/100), SRS-1) #calculate t value for this SRS\n",
    "n = 200 # n is the number of runs to simulate\n",
    "ts = 10000 # ts is the number of time steps in a second\n",
    "MtrStepDecider = random.randrange(ts) #this will be used to determine if try to step\n",
    "MtrDetachDecider = random.randrange(ts) #This is used to see if falls off\n",
    "num_steps=[] #placeholder, empty list\n",
    "distance_travelled=[] #placeholder, empty list\n",
    "run_length=[] #placeholder, empty list\n",
    "for i in range(n*SRS):  #This is a loop which will go n times\n",
    "    numtimesteps = 0\n",
    "    Numsteps = 0\n",
    "    MtrDetachDecider = 1000  #this makes sure you get into the while loop\n",
    "    while MtrDetachDecider >= 100:\n",
    "        numtimesteps = numtimesteps + 1\n",
    "        MtrStepDecider = random.randrange (ts)\n",
    "        # print('timestep is', numtimesteps, 'MtrStepDecider is', MtrStepDecider, 'MtrDetachDec is', MtrDetachDecider )\n",
    "        if MtrStepDecider <= 100:  #if true, then is attempting to step\n",
    "            MtrDetachDecider = random.randrange(ts)\n",
    "            if MtrDetachDecider > 100:\n",
    "                Numsteps = Numsteps + 1\n",
    "                #print ('entered if loop')\n",
    "                #print ('steps taken so far', Numsteps)\n",
    "    num_steps.append(Numsteps) #append num steps for this iteration i to list\n",
    "    distance_travelled.append(Numsteps*8) #append dist travelled for this iteration i to list\n",
    "    run_length.append(numtimesteps/10000)\n",
    "#calculate average run_length of each sample\n",
    "distance_travelled_reshape=np.reshape(distance_travelled, (SRS, int(len(distance_travelled)/SRS)))\n",
    "#distance_travelled_mean=np.mean(distance_travelled_reshape, axis=0)\n",
    "#95% CI\n",
    "#equations below are mean +- t*std dev/sqrt(n)\n",
    "CI256low=np.mean(distance_travelled_reshape,axis=0)-t*np.std(distance_travelled_reshape,ddof=1,axis=0)/(SRS**.5)\n",
    "CI256high=np.mean(distance_travelled_reshape,axis=0)+t*np.std(distance_travelled_reshape,ddof=1,axis=0)/(SRS**.5)\n",
    "count=0\n",
    "for lo, hi in zip(CI256low, CI256high):\n",
    "    if true_mean >= lo and true_mean <= hi:\n",
    "        count+=1\n",
    "print(\"200 95% CIs were calculated for SRS of \",SRS,\". These are stored in CI256low and CI256high.\")\n",
    "print(100*count/n,\"% of the 95% CIs contain the true mean of \",true_mean,\" with SRS of \",SRS,\".\")\n",
    "prop256=100*count/n"
   ]
  },
  {
   "cell_type": "markdown",
   "metadata": {},
   "source": [
    "Below is a plot of the proportion of correct events for each SRS.  \n",
    "(Then, for that sample size, determine the proportion of correct events, i.e. the number of\n",
    "tests that included 800, divided by the total number of tests. Plot a graph of the proportion, as a\n",
    "function of the number of elements in the sample.)  \n",
    "At some point (i.e. for some sample size N), the proportion should get close to 0.95. When is that?  \n",
    "The proportion gets close to 95% (or 0.95) when SRS is 200 or higher (based on the graph below).  \n",
    "At small values of SRS, the proportion of correct events is quite random and fluctuates due to the small sample size."
   ]
  },
  {
   "cell_type": "code",
   "execution_count": 27,
   "metadata": {},
   "outputs": [
    {
     "data": {
      "text/plain": [
       "Text(0.5, 1.0, 'Proportion correct (%) by SRS')"
      ]
     },
     "execution_count": 27,
     "metadata": {},
     "output_type": "execute_result"
    },
    {
     "data": {
      "image/png": "[encoded data removed]",
      "text/plain": [
       "<Figure size 432x288 with 1 Axes>"
      ]
     },
     "metadata": {
      "needs_background": "light"
     },
     "output_type": "display_data"
    }
   ],
   "source": [
    "props=[prop2,prop4,prop8,prop16,prop32,prop64,prop128,prop200,prop256]\n",
    "#i added prop200 because of the large gap between 128 and 256\n",
    "SRS=[2,4,8,16,32,64,128,200,256]\n",
    "plt.scatter(SRS, props)\n",
    "plt.xlabel(\"SRS\")\n",
    "plt.ylabel(\"Percent correct\")\n",
    "plt.title(\"Proportion correct (%) by SRS\")"
   ]
  },
  {
   "cell_type": "markdown",
   "metadata": {},
   "source": [
    "Finally, for each sample size, use the statistic we discussed in class (on proportions): for each sample\n",
    "size, does the proportion 95% CI include 0.95? (answered in output of below cell).  \n",
    "Although I originally suggested a few different sample sizes, feel free to go beyond those sizes as you see\n",
    "fit (I added SRS of 200).  \n",
    "From the output below, you can see that at low SRS whether or not the proportion 95% CI includes 0.95 is not guaranteed and depends largely on chance. As SRS gets larger, the proportion 95% CI is more and more likely to include 0.95."
   ]
  },
  {
   "cell_type": "code",
   "execution_count": 28,
   "metadata": {},
   "outputs": [
    {
     "name": "stdout",
     "output_type": "stream",
     "text": [
      "The proportion 95% CI does not include 0.95 for SRS of  2 .\n",
      "The proportion 95% CI does not include 0.95 for SRS of  4 .\n",
      "The proportion 95% CI does not include 0.95 for SRS of  8 .\n",
      "The proportion 95% CI does not include 0.95 for SRS of  16 .\n",
      "The proportion 95% CI does not include 0.95 for SRS of  32 .\n",
      "The proportion 95% CI does include 0.95 for SRS of  64 .\n",
      "The proportion 95% CI does include 0.95 for SRS of  128 .\n",
      "The proportion 95% CI does include 0.95 for SRS of  200 .\n",
      "The proportion 95% CI does include 0.95 for SRS of  256 .\n"
     ]
    }
   ],
   "source": [
    "prop_CIlo=[]\n",
    "prop_CIhi=[]\n",
    "for x,n in zip(props,SRS):\n",
    "    p=x/100 #div by 100 bc it was a percent\n",
    "    prop_CIlo.append(p-1.96*(p*(1-p)/200)**0.5) #n is 200 for all bc i did 200 trials\n",
    "    prop_CIhi.append(p+1.96*(p*(1-p)/200)**0.5) #n is 200 for all bc i did 200 trials\n",
    "for lo, hi, n in zip(prop_CIlo, prop_CIhi, SRS):\n",
    "    if .95 >= lo and .95 <= hi:\n",
    "        print(\"The proportion 95% CI does include 0.95 for SRS of \",n,\".\")\n",
    "    else:\n",
    "        print(\"The proportion 95% CI does not include 0.95 for SRS of \",n,\".\")"
   ]
  },
  {
   "cell_type": "markdown",
   "metadata": {},
   "source": [
    "From all of this, summarize what you have learned about sample size, t-tests, and skewed distributions.  \n",
    "About sample size: a larger sample size allows for more accurate knowledge about the population being observed. Small sample sizes allow outliers to skew data/distributions and don't accurately represent the true characteristics of the population (there is a loto of chance involved). Larger sample sizes are less affected by chance and more consistently represent a population's characteristics. A larger sample size should always be sought after (within reason, and taking into account computational and logistical limitations).     \n",
    "About t-tests: t-tests are a good way to compare two sets of data and determine if there is a significant difference between them. t-values can be used to calculate other useful things like Confidence Intervals and allow you to choose what Confidence Level you want (95% is standard).   \n",
    "About skewed distributions:  Because of the Central Limit Theorem, skewed distributions will still have distributions of sample means that have no skew if the samples are large enough. The decaying exponential (run length) that we observed in part B, for example, was shown to have a Gaussian distribution if large enough samples were taken (SRS of 32 or higher)."
   ]
  }
 ],
 "metadata": {
  "kernelspec": {
   "display_name": "Python 3",
   "language": "python",
   "name": "python3"
  },
  "language_info": {
   "codemirror_mode": {
    "name": "ipython",
    "version": 3
   },
   "file_extension": ".py",
   "mimetype": "text/x-python",
   "name": "python",
   "nbconvert_exporter": "python",
   "pygments_lexer": "ipython3",
   "version": "3.8.5"
  }
 },
 "nbformat": 4,
 "nbformat_minor": 4
}
