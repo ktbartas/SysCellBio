{
 "cells": [
  {
   "cell_type": "markdown",
   "metadata": {},
   "source": [
    "# Systems Cell Bio HW#3  \n",
    "Professor Gross' section of the course  \n",
    "Katrina Bartas  \n",
    "2/17/21"
   ]
  },
  {
   "cell_type": "markdown",
   "metadata": {},
   "source": [
    "The goal is to model two kinesin motors functioning together. In HW#1 you developed a\n",
    "simulation for 1 motor. Here, you will stick two such motors together.  \n",
    "The main goal here: determine how changing the velocity of the motors (i.e. the rate at which\n",
    "each motor steps) affects the mean travel distance of the group, for two motors. You should\n",
    "compare these results to the order-of-magnitude theory developed in class. How similar are the\n",
    "two sets of predictions?  \n",
    "If different, suggest what might account for the difference.  \n",
    "Assume that each individual motor has a processivity of 800 nm. What is your prediction for the\n",
    "mean travel of a cargo with two such motors, assuming a fixed on-rate (probability of binding)\n",
    "of 2/sec, for mean velocity of 100 nm/sec, 200 nm/sec, 400 nm/sec, and 800 nm/sec?  \n",
    "Key points:  \n",
    "a) motors only fall off when they attempt to step,  \n",
    "b) a ‘run’ of the cargo ends only when both motors detach, assume that when a motor unbinds, it has a constant chance of\n",
    "rebinding in subsequent turns (determined by its on-rate) and that when it rebinds, it binds exactly at the location of the bound motor.  \n",
    "As well as the mean travel (with 95% CI) also show distributions of run-lengths for the different velocity conditions."
   ]
  },
  {
   "cell_type": "markdown",
   "metadata": {},
   "source": [
    "The results from the order-of-magnitude theory developed in class are off by over a factor of 2 from the results obtained via simulation for all velocities. But, the trends are similar (meaning that decreases in velocity lead to an increase in run length for both simulation results and order-of-magnitude theory results).  \n",
    "  \n",
    "This difference might be due to the long tail of the distribution (of the simulated data as shown in the histograms) making the mean much larger while the order-of-magnitude theory results assume that runs will end after the calculated number of cycles.  \n",
    "  \n",
    "This difference could also be explained by the order-of-magnitude theory treating the motors as independent, while in my simulations, if one motor detaches it will reattach at the location of the other motor. Because of this coupling between the motors in the simulations (and the lack of coupling in the order-of-magnitude theory), the difference between the two sets of results is further enlarged."
   ]
  },
  {
   "cell_type": "code",
   "execution_count": 1,
   "metadata": {},
   "outputs": [],
   "source": [
    "#import necessary packages, define variables, define placeholders\n",
    "import random\n",
    "import numpy as np\n",
    "import matplotlib.pyplot as plt\n",
    "from scipy import stats"
   ]
  },
  {
   "cell_type": "markdown",
   "metadata": {},
   "source": [
    "I based my code for this homework on my code for HW#1 with some modifications.  \n",
    "I changed the while loop to account for 2 motors being attached or just 1 of the 2 being attached, and within the while loop I made up 3 possible conditions: both motors are attached, motor 1 is attached, or motor 2 is attached.  \n",
    "Within each condition if statements are carried out depending on random values that determine whether or not things detach, re-attach, or step.  \n",
    "  \n",
    "To change the velocities of the individual motors I changed the \"MtrStepDecider\" threshold values accordingly. Because there are 10,000 timesteps within a second, the threshold to take a step were as follows for the following velocities:  \n",
    "100 for 800 nm/sec.  \n",
    "50 for 400 nm/sec.  \n",
    "25 for 200 nm/sec.  \n",
    "12.5 for 100 nm/sec.  \n",
    "  \n",
    "The processivity for all individual motors remained 800 nm because I did not change thresholds for \"MtrDetachDecider\".  \n",
    "Below are histograms of the run lengths for each velocity, and the 95% CI printed above the histograms along with some other information."
   ]
  },
  {
   "cell_type": "code",
   "execution_count": 2,
   "metadata": {},
   "outputs": [
    {
     "name": "stdout",
     "output_type": "stream",
     "text": [
      "average length of time of each run is  2.3835659999999996 seconds\n",
      "average times reattached per run is  2.09  times.\n",
      "mean run length is  1760.72 nm\n",
      "95% CI of run length is  1421.871964742099  and  2099.568035257901  nanometers.\n"
     ]
    },
    {
     "data": {
      "image/png": "[encoded data removed]",
      "text/plain": [
       "<Figure size 432x288 with 1 Axes>"
      ]
     },
     "metadata": {
      "needs_background": "light"
     },
     "output_type": "display_data"
    }
   ],
   "source": [
    "#mean velocity 800 nm/sec for each individual motor\n",
    "#on-rate is constant\n",
    "#off-rate is higher if velocity is higher because more steps must be taken in a given period of time\n",
    "n = 100 # n is the number of runs to simulate\n",
    "ts = 10000 # ts is the number of time steps in a second\n",
    "MtrStepDecider = random.randrange(ts) #this will be used to determine if try to step\n",
    "MtrDetachDecider = random.randrange(ts) #This is used to see if falls off\n",
    "num_steps=[] #placeholder, empty list\n",
    "distance_travelled=[] #placeholder, empty list\n",
    "run_length=[] #placeholder, empty list\n",
    "velocity=[] #placeholder, empty list\n",
    "count_attachments=[]\n",
    "step_size=8\n",
    "step_thresh=100 # 100 for mean velocity 800 and processivity 800 for individu motor\n",
    "detac_thresh=100 # 100 for mean velocity 800 and processivity 800 for individu motor\n",
    "#for loop which runs simulation n times\n",
    "for i in range(n):  #This is a loop which will go n times\n",
    "    numtimesteps = 0\n",
    "    Numsteps = 0\n",
    "    Numsteps2 = 0\n",
    "    MtrDetachDecider = 1000  #this makes sure you get into the while loop\n",
    "    MtrDetachDecider2 = 1000\n",
    "    count_attach=0\n",
    "    while MtrDetachDecider >= detac_thresh or MtrDetachDecider2 >= detac_thresh:\n",
    "        numtimesteps = numtimesteps + 1\n",
    "        MtrStepDecider = random.randrange (ts)\n",
    "        MtrStepDecider2 = random.randrange (ts)\n",
    "        if MtrDetachDecider >= detac_thresh and MtrDetachDecider2 >= detac_thresh: #both motors attached\n",
    "            if MtrStepDecider <= step_thresh and MtrStepDecider2 <= step_thresh:  #if true, then both motor is attempting to step\n",
    "                MtrDetachDecider = random.randrange(ts)\n",
    "                MtrDetachDecider2 = random.randrange(ts)\n",
    "                if MtrDetachDecider > detac_thresh: \n",
    "                    Numsteps = Numsteps + 1\n",
    "                if MtrDetachDecider2 > detac_thresh: \n",
    "                    Numsteps2 = Numsteps2 + 1\n",
    "            elif MtrStepDecider <= step_thresh and MtrStepDecider2 > step_thresh: #just one will step\n",
    "                MtrDetachDecider = random.randrange(ts)\n",
    "                if MtrDetachDecider > detac_thresh: #if either steps i will add a step\n",
    "                    Numsteps = Numsteps + 1\n",
    "            elif MtrStepDecider2 <= step_thresh and MtrStepDecider > step_thresh: #just two will step\n",
    "                MtrDetachDecider2 = random.randrange(ts)\n",
    "                if MtrDetachDecider2 > detac_thresh: #if either steps i will add a step\n",
    "                    Numsteps2 = Numsteps2 + 1\n",
    "        elif MtrDetachDecider >= detac_thresh and MtrDetachDecider2 < detac_thresh: #motor1 attached, motor2 not\n",
    "            if MtrStepDecider <= step_thresh:  #if true, then motor1 is attempting to step\n",
    "                MtrDetachDecider = random.randrange(ts)\n",
    "                if MtrDetachDecider >= detac_thresh:\n",
    "                    Numsteps = Numsteps + 1\n",
    "            MtrAttachDecider2 = random.randrange(ts)\n",
    "            if MtrAttachDecider2 < 2: #2 chances per sec\n",
    "                count_attach=count_attach+1\n",
    "                MtrDetachDecider2 = 1000 \n",
    "                Numsteps2=Numsteps\n",
    "        else: #motor2 attached, motor1 not\n",
    "            if MtrStepDecider2 <= step_thresh:  #if true, then motor1 is attempting to step\n",
    "                MtrDetachDecider2 = random.randrange(ts)\n",
    "                if MtrDetachDecider2 >= detac_thresh:\n",
    "                    Numsteps2 = Numsteps2 + 1\n",
    "            MtrAttachDecider = random.randrange(ts)\n",
    "            if MtrAttachDecider < 2: #2 chances per sec\n",
    "                count_attach=count_attach+1\n",
    "                MtrDetachDecider = 1000 \n",
    "                Numsteps=Numsteps2\n",
    "    num_steps.append((Numsteps+Numsteps2)/2) #append num steps for this iteration i to list\n",
    "    distance_travelled.append((Numsteps+Numsteps2)/2*step_size) #append dist travelled for this iteration i to list\n",
    "    run_length.append(numtimesteps/10000)\n",
    "    count_attachments.append(count_attach)\n",
    "    velocity.append(((Numsteps+Numsteps2)/2*step_size)/(numtimesteps/10000)) #append velocity for this iteration i to list\n",
    "mean_velocity=np.mean(velocity)\n",
    "#print(\"average velocity is \",mean_velocity,\" nm/sec\")\n",
    "mean_distance=np.mean(distance_travelled)\n",
    "print(\"average length of time of each run is \",np.mean(run_length),\"seconds\")\n",
    "mean_at=np.mean(count_attachments)\n",
    "print(\"average times reattached per run is \",mean_at,\" times.\")\n",
    "#calculate 95% CI\n",
    "t = stats.t.ppf(1-((100-95)/2/100), n-1) #calculate t value for this SRS\n",
    "CIlow=np.mean(distance_travelled)-t*np.std(distance_travelled,ddof=1)/(n**.5)\n",
    "CIhigh=np.mean(distance_travelled)+t*np.std(distance_travelled,ddof=1)/(n**.5)\n",
    "print(\"mean run length is \",mean_distance,\"nm\")\n",
    "print(\"95% CI of run length is \",CIlow,\" and \",CIhigh,\" nanometers.\")\n",
    "#make histogram below\n",
    "m, bins, patches = plt.hist(x=distance_travelled, bins='auto', alpha=0.7, rwidth=0.85) #choose bins automatically\n",
    "plt.grid(axis='y', alpha=0.5)\n",
    "plt.xlabel('Run Length (nanometers)')\n",
    "plt.ylabel('Frequency')\n",
    "plt.title('Histogram for velocity condition of 800 nm/sec.')\n",
    "maxfreq = m.max()"
   ]
  },
  {
   "cell_type": "code",
   "execution_count": 3,
   "metadata": {},
   "outputs": [
    {
     "name": "stdout",
     "output_type": "stream",
     "text": [
      "According to our back of the envelope calculation the estimated run length for  800  nm/s velocity is  400.0  nm.\n"
     ]
    }
   ],
   "source": [
    "#order of magnitude estimate\n",
    "velocity=800 #nm/s\n",
    "av_time=800/velocity\n",
    "off_rate=1/av_time\n",
    "deltaT=0.5\n",
    "prob_detac=off_rate*deltaT\n",
    "prob_end=2*prob_detac\n",
    "est_cycles=1/prob_end\n",
    "est_run_length=400*est_cycles\n",
    "print(\"According to our back of the envelope calculation the estimated run length for \",velocity,\" nm/s velocity is \",est_run_length,\" nm.\")"
   ]
  },
  {
   "cell_type": "code",
   "execution_count": 4,
   "metadata": {
    "scrolled": false
   },
   "outputs": [
    {
     "name": "stdout",
     "output_type": "stream",
     "text": [
      "average length of time of each run is  6.897135 seconds\n",
      "average times reattached per run is  3.9  times.\n",
      "mean run length is  2698.72 nm\n",
      "95% CI of run length is  2220.9104386041727  and  3176.529561395827  nanometers.\n"
     ]
    },
    {
     "data": {
      "image/png": "[encoded data removed]",
      "text/plain": [
       "<Figure size 432x288 with 1 Axes>"
      ]
     },
     "metadata": {
      "needs_background": "light"
     },
     "output_type": "display_data"
    }
   ],
   "source": [
    "#mean velocity 400 nm/sec for each individual motor\n",
    "#on-rate is constant\n",
    "#off-rate is higher if velocity is higher because more steps must be taken in a given period of time\n",
    "n = 100 # n is the number of runs to simulate\n",
    "ts = 10000 # ts is the number of time steps in a second\n",
    "MtrStepDecider = random.randrange(ts) #this will be used to determine if try to step\n",
    "MtrDetachDecider = random.randrange(ts) #This is used to see if falls off\n",
    "num_steps=[] #placeholder, empty list\n",
    "distance_travelled=[] #placeholder, empty list\n",
    "run_length=[] #placeholder, empty list\n",
    "velocity=[] #placeholder, empty list\n",
    "count_attachments=[]\n",
    "step_size=8\n",
    "step_thresh=50 # 100 for mean velocity 800 and processivity 800 for individu motor\n",
    "detac_thresh=100 # 100 for mean velocity 800 and processivity 800 for individu motor\n",
    "#for loop which runs simulation n times\n",
    "for i in range(n):  #This is a loop which will go n times\n",
    "    numtimesteps = 0\n",
    "    Numsteps = 0\n",
    "    Numsteps2 = 0\n",
    "    MtrDetachDecider = 1000  #this makes sure you get into the while loop\n",
    "    MtrDetachDecider2 = 1000\n",
    "    count_attach=0\n",
    "    while MtrDetachDecider >= detac_thresh or MtrDetachDecider2 >= detac_thresh:\n",
    "        numtimesteps = numtimesteps + 1\n",
    "        MtrStepDecider = random.randrange (ts)\n",
    "        MtrStepDecider2 = random.randrange (ts)\n",
    "        if MtrDetachDecider >= detac_thresh and MtrDetachDecider2 >= detac_thresh: #both motors attached\n",
    "            if MtrStepDecider <= step_thresh and MtrStepDecider2 <= step_thresh:  #if true, then both motor is attempting to step\n",
    "                MtrDetachDecider = random.randrange(ts)\n",
    "                MtrDetachDecider2 = random.randrange(ts)\n",
    "                if MtrDetachDecider > detac_thresh: \n",
    "                    Numsteps = Numsteps + 1\n",
    "                if MtrDetachDecider2 > detac_thresh: \n",
    "                    Numsteps2 = Numsteps2 + 1\n",
    "            elif MtrStepDecider <= step_thresh and MtrStepDecider2 > step_thresh: #just one will step\n",
    "                MtrDetachDecider = random.randrange(ts)\n",
    "                if MtrDetachDecider > detac_thresh: #if either steps i will add a step\n",
    "                    Numsteps = Numsteps + 1\n",
    "            elif MtrStepDecider2 <= step_thresh and MtrStepDecider > step_thresh: #just two will step\n",
    "                MtrDetachDecider2 = random.randrange(ts)\n",
    "                if MtrDetachDecider2 > detac_thresh: #if either steps i will add a step\n",
    "                    Numsteps2 = Numsteps2 + 1\n",
    "        elif MtrDetachDecider >= detac_thresh and MtrDetachDecider2 < detac_thresh: #motor1 attached, motor2 not\n",
    "            if MtrStepDecider <= step_thresh:  #if true, then motor1 is attempting to step\n",
    "                MtrDetachDecider = random.randrange(ts)\n",
    "                if MtrDetachDecider >= detac_thresh:\n",
    "                    Numsteps = Numsteps + 1\n",
    "            MtrAttachDecider2 = random.randrange(ts)\n",
    "            if MtrAttachDecider2 < 2: #2 chances per sec\n",
    "                count_attach=count_attach+1\n",
    "                MtrDetachDecider2 = 1000 \n",
    "                Numsteps2=Numsteps\n",
    "        else: #motor2 attached, motor1 not\n",
    "            if MtrStepDecider2 <= step_thresh:  #if true, then motor1 is attempting to step\n",
    "                MtrDetachDecider2 = random.randrange(ts)\n",
    "                if MtrDetachDecider2 >= detac_thresh:\n",
    "                    Numsteps2 = Numsteps2 + 1\n",
    "            MtrAttachDecider = random.randrange(ts)\n",
    "            if MtrAttachDecider < 2: #2 chances per sec\n",
    "                count_attach=count_attach+1\n",
    "                MtrDetachDecider = 1000 \n",
    "                Numsteps=Numsteps2\n",
    "    num_steps.append((Numsteps+Numsteps2)/2) #append num steps for this iteration i to list\n",
    "    distance_travelled.append((Numsteps+Numsteps2)/2*step_size) #append dist travelled for this iteration i to list\n",
    "    run_length.append(numtimesteps/10000)\n",
    "    count_attachments.append(count_attach)\n",
    "    velocity.append(((Numsteps+Numsteps2)/2*step_size)/(numtimesteps/10000)) #append velocity for this iteration i to list\n",
    "mean_velocity=np.mean(velocity)\n",
    "#print(\"average velocity is \",mean_velocity,\" nm/sec\")\n",
    "mean_distance=np.mean(distance_travelled)\n",
    "print(\"average length of time of each run is \",np.mean(run_length),\"seconds\")\n",
    "mean_at=np.mean(count_attachments)\n",
    "print(\"average times reattached per run is \",mean_at,\" times.\")\n",
    "#calculate 95% CI\n",
    "t = stats.t.ppf(1-((100-95)/2/100), n-1) #calculate t value for this SRS\n",
    "CIlow=np.mean(distance_travelled)-t*np.std(distance_travelled,ddof=1)/(n**.5)\n",
    "CIhigh=np.mean(distance_travelled)+t*np.std(distance_travelled,ddof=1)/(n**.5)\n",
    "print(\"mean run length is \",mean_distance,\"nm\")\n",
    "print(\"95% CI of run length is \",CIlow,\" and \",CIhigh,\" nanometers.\")\n",
    "#make histogram below\n",
    "m, bins, patches = plt.hist(x=distance_travelled, bins='auto', alpha=0.7, rwidth=0.85) #choose bins automatically\n",
    "plt.grid(axis='y', alpha=0.5)\n",
    "plt.xlabel('Run Length (nanometers)')\n",
    "plt.ylabel('Frequency')\n",
    "plt.title('Histogram for velocity condition of 400 nm/sec.')\n",
    "maxfreq = m.max()"
   ]
  },
  {
   "cell_type": "code",
   "execution_count": 5,
   "metadata": {},
   "outputs": [
    {
     "name": "stdout",
     "output_type": "stream",
     "text": [
      "According to our back of the envelope calculation the estimated run length for  400  nm/s velocity is  800.0  nm.\n"
     ]
    }
   ],
   "source": [
    "#order of magnitude estimate\n",
    "velocity=400 #nm/s\n",
    "av_time=800/velocity\n",
    "off_rate=1/av_time\n",
    "deltaT=0.5\n",
    "prob_detac=off_rate*deltaT\n",
    "prob_end=2*prob_detac\n",
    "est_cycles=1/prob_end\n",
    "est_run_length=400*est_cycles\n",
    "print(\"According to our back of the envelope calculation the estimated run length for \",velocity,\" nm/s velocity is \",est_run_length,\" nm.\")"
   ]
  },
  {
   "cell_type": "code",
   "execution_count": 6,
   "metadata": {},
   "outputs": [
    {
     "name": "stdout",
     "output_type": "stream",
     "text": [
      "average length of time of each run is  19.586787 seconds\n",
      "average times reattached per run is  7.04  times.\n",
      "mean run length is  3981.72 nm\n",
      "95% CI of run length is  3182.8653989539916  and  4780.574601046008  nanometers.\n"
     ]
    },
    {
     "data": {
      "image/png": "[encoded data removed]",
      "text/plain": [
       "<Figure size 432x288 with 1 Axes>"
      ]
     },
     "metadata": {
      "needs_background": "light"
     },
     "output_type": "display_data"
    }
   ],
   "source": [
    "#mean velocity 200 nm/sec for each individual motor\n",
    "#on-rate is constant\n",
    "#off-rate is higher if velocity is higher because more steps must be taken in a given period of time\n",
    "n = 100 # n is the number of runs to simulate\n",
    "ts = 10000 # ts is the number of time steps in a second\n",
    "MtrStepDecider = random.randrange(ts) #this will be used to determine if try to step\n",
    "MtrDetachDecider = random.randrange(ts) #This is used to see if falls off\n",
    "num_steps=[] #placeholder, empty list\n",
    "distance_travelled=[] #placeholder, empty list\n",
    "run_length=[] #placeholder, empty list\n",
    "velocity=[] #placeholder, empty list\n",
    "count_attachments=[]\n",
    "step_size=8\n",
    "step_thresh=25 # 100 for mean velocity 800 and processivity 800 for individu motor\n",
    "detac_thresh=100 # 100 for mean velocity 800 and processivity 800 for individu motor\n",
    "#for loop which runs simulation n times\n",
    "for i in range(n):  #This is a loop which will go n times\n",
    "    numtimesteps = 0\n",
    "    Numsteps = 0\n",
    "    Numsteps2 = 0\n",
    "    MtrDetachDecider = 1000  #this makes sure you get into the while loop\n",
    "    MtrDetachDecider2 = 1000\n",
    "    count_attach=0\n",
    "    while MtrDetachDecider >= detac_thresh or MtrDetachDecider2 >= detac_thresh:\n",
    "        numtimesteps = numtimesteps + 1\n",
    "        MtrStepDecider = random.randrange (ts)\n",
    "        MtrStepDecider2 = random.randrange (ts)\n",
    "        if MtrDetachDecider >= detac_thresh and MtrDetachDecider2 >= detac_thresh: #both motors attached\n",
    "            if MtrStepDecider <= step_thresh and MtrStepDecider2 <= step_thresh:  #if true, then both motor is attempting to step\n",
    "                MtrDetachDecider = random.randrange(ts)\n",
    "                MtrDetachDecider2 = random.randrange(ts)\n",
    "                if MtrDetachDecider > detac_thresh: \n",
    "                    Numsteps = Numsteps + 1\n",
    "                if MtrDetachDecider2 > detac_thresh: \n",
    "                    Numsteps2 = Numsteps2 + 1\n",
    "            elif MtrStepDecider <= step_thresh and MtrStepDecider2 > step_thresh: #just one will step\n",
    "                MtrDetachDecider = random.randrange(ts)\n",
    "                if MtrDetachDecider > detac_thresh: #if either steps i will add a step\n",
    "                    Numsteps = Numsteps + 1\n",
    "            elif MtrStepDecider2 <= step_thresh and MtrStepDecider > step_thresh: #just two will step\n",
    "                MtrDetachDecider2 = random.randrange(ts)\n",
    "                if MtrDetachDecider2 > detac_thresh: #if either steps i will add a step\n",
    "                    Numsteps2 = Numsteps2 + 1\n",
    "        elif MtrDetachDecider >= detac_thresh and MtrDetachDecider2 < detac_thresh: #motor1 attached, motor2 not\n",
    "            if MtrStepDecider <= step_thresh:  #if true, then motor1 is attempting to step\n",
    "                MtrDetachDecider = random.randrange(ts)\n",
    "                if MtrDetachDecider >= detac_thresh:\n",
    "                    Numsteps = Numsteps + 1\n",
    "            MtrAttachDecider2 = random.randrange(ts)\n",
    "            if MtrAttachDecider2 < 2: #2 chances per sec\n",
    "                count_attach=count_attach+1\n",
    "                MtrDetachDecider2 = 1000 \n",
    "                Numsteps2=Numsteps\n",
    "        else: #motor2 attached, motor1 not\n",
    "            if MtrStepDecider2 <= step_thresh:  #if true, then motor1 is attempting to step\n",
    "                MtrDetachDecider2 = random.randrange(ts)\n",
    "                if MtrDetachDecider2 >= detac_thresh:\n",
    "                    Numsteps2 = Numsteps2 + 1\n",
    "            MtrAttachDecider = random.randrange(ts)\n",
    "            if MtrAttachDecider < 2: #2 chances per sec\n",
    "                count_attach=count_attach+1\n",
    "                MtrDetachDecider = 1000 \n",
    "                Numsteps=Numsteps2\n",
    "    num_steps.append((Numsteps+Numsteps2)/2) #append num steps for this iteration i to list\n",
    "    distance_travelled.append((Numsteps+Numsteps2)/2*step_size) #append dist travelled for this iteration i to list\n",
    "    run_length.append(numtimesteps/10000)\n",
    "    count_attachments.append(count_attach)\n",
    "    velocity.append(((Numsteps+Numsteps2)/2*step_size)/(numtimesteps/10000)) #append velocity for this iteration i to list\n",
    "mean_velocity=np.mean(velocity)\n",
    "#print(\"average velocity is \",mean_velocity,\" nm/sec\")\n",
    "mean_distance=np.mean(distance_travelled)\n",
    "print(\"average length of time of each run is \",np.mean(run_length),\"seconds\")\n",
    "mean_at=np.mean(count_attachments)\n",
    "print(\"average times reattached per run is \",mean_at,\" times.\")\n",
    "#calculate 95% CI\n",
    "t = stats.t.ppf(1-((100-95)/2/100), n-1) #calculate t value for this SRS\n",
    "CIlow=np.mean(distance_travelled)-t*np.std(distance_travelled,ddof=1)/(n**.5)\n",
    "CIhigh=np.mean(distance_travelled)+t*np.std(distance_travelled,ddof=1)/(n**.5)\n",
    "print(\"mean run length is \",mean_distance,\"nm\")\n",
    "print(\"95% CI of run length is \",CIlow,\" and \",CIhigh,\" nanometers.\")\n",
    "#make histogram below\n",
    "m, bins, patches = plt.hist(x=distance_travelled, bins='auto', alpha=0.7, rwidth=0.85) #choose bins automatically\n",
    "plt.grid(axis='y', alpha=0.5)\n",
    "plt.xlabel('Run Length (nanometers)')\n",
    "plt.ylabel('Frequency')\n",
    "plt.title('Histogram for velocity condition of 200 nm/sec.')\n",
    "maxfreq = m.max()"
   ]
  },
  {
   "cell_type": "code",
   "execution_count": 7,
   "metadata": {},
   "outputs": [
    {
     "name": "stdout",
     "output_type": "stream",
     "text": [
      "According to our back of the envelope calculation the estimated run length for  200  nm/s velocity is  1600.0  nm.\n"
     ]
    }
   ],
   "source": [
    "#order of magnitude estimate\n",
    "velocity=200 #nm/s\n",
    "av_time=800/velocity\n",
    "off_rate=1/av_time\n",
    "deltaT=0.5\n",
    "prob_detac=off_rate*deltaT\n",
    "prob_end=2*prob_detac\n",
    "est_cycles=1/prob_end\n",
    "est_run_length=400*est_cycles\n",
    "print(\"According to our back of the envelope calculation the estimated run length for \",velocity,\" nm/s velocity is \",est_run_length,\" nm.\")"
   ]
  },
  {
   "cell_type": "code",
   "execution_count": 8,
   "metadata": {},
   "outputs": [
    {
     "name": "stdout",
     "output_type": "stream",
     "text": [
      "average length of time of each run is  58.540898000000006 seconds\n",
      "average times reattached per run is  12.65  times.\n",
      "mean run length is  6011.28 nm\n",
      "95% CI of run length is  4696.056507188183  and  7326.503492811817  nanometers.\n"
     ]
    },
    {
     "data": {
      "image/png": "[encoded data removed]",
      "text/plain": [
       "<Figure size 432x288 with 1 Axes>"
      ]
     },
     "metadata": {
      "needs_background": "light"
     },
     "output_type": "display_data"
    }
   ],
   "source": [
    "#mean velocity 100 nm/sec for each individual motor\n",
    "#on-rate is constant\n",
    "#off-rate is higher if velocity is higher because more steps must be taken in a given period of time\n",
    "n = 100 # n is the number of runs to simulate\n",
    "ts = 10000 # ts is the number of time steps in a second\n",
    "MtrStepDecider = random.randrange(ts) #this will be used to determine if try to step\n",
    "MtrDetachDecider = random.randrange(ts) #This is used to see if falls off\n",
    "num_steps=[] #placeholder, empty list\n",
    "distance_travelled=[] #placeholder, empty list\n",
    "run_length=[] #placeholder, empty list\n",
    "velocity=[] #placeholder, empty list\n",
    "count_attachments=[]\n",
    "step_size=8\n",
    "step_thresh=12.5 # 100 for mean velocity 800 and processivity 800 for individu motor\n",
    "detac_thresh=100 # 100 for mean velocity 800 and processivity 800 for individu motor\n",
    "#for loop which runs simulation n times\n",
    "for i in range(n):  #This is a loop which will go n times\n",
    "    numtimesteps = 0\n",
    "    Numsteps = 0\n",
    "    Numsteps2 = 0\n",
    "    MtrDetachDecider = 1000  #this makes sure you get into the while loop\n",
    "    MtrDetachDecider2 = 1000\n",
    "    count_attach=0\n",
    "    while MtrDetachDecider >= detac_thresh or MtrDetachDecider2 >= detac_thresh:\n",
    "        numtimesteps = numtimesteps + 1\n",
    "        MtrStepDecider = random.randrange (ts)\n",
    "        MtrStepDecider2 = random.randrange (ts)\n",
    "        if MtrDetachDecider >= detac_thresh and MtrDetachDecider2 >= detac_thresh: #both motors attached\n",
    "            if MtrStepDecider <= step_thresh and MtrStepDecider2 <= step_thresh:  #if true, then both motor is attempting to step\n",
    "                MtrDetachDecider = random.randrange(ts)\n",
    "                MtrDetachDecider2 = random.randrange(ts)\n",
    "                if MtrDetachDecider > detac_thresh: \n",
    "                    Numsteps = Numsteps + 1\n",
    "                if MtrDetachDecider2 > detac_thresh: \n",
    "                    Numsteps2 = Numsteps2 + 1\n",
    "            elif MtrStepDecider <= step_thresh and MtrStepDecider2 > step_thresh: #just one will step\n",
    "                MtrDetachDecider = random.randrange(ts)\n",
    "                if MtrDetachDecider > detac_thresh: #if either steps i will add a step\n",
    "                    Numsteps = Numsteps + 1\n",
    "            elif MtrStepDecider2 <= step_thresh and MtrStepDecider > step_thresh: #just two will step\n",
    "                MtrDetachDecider2 = random.randrange(ts)\n",
    "                if MtrDetachDecider2 > detac_thresh: #if either steps i will add a step\n",
    "                    Numsteps2 = Numsteps2 + 1\n",
    "        elif MtrDetachDecider >= detac_thresh and MtrDetachDecider2 < detac_thresh: #motor1 attached, motor2 not\n",
    "            if MtrStepDecider <= step_thresh:  #if true, then motor1 is attempting to step\n",
    "                MtrDetachDecider = random.randrange(ts)\n",
    "                if MtrDetachDecider >= detac_thresh:\n",
    "                    Numsteps = Numsteps + 1\n",
    "            MtrAttachDecider2 = random.randrange(ts)\n",
    "            if MtrAttachDecider2 < 2: #2 chances per sec\n",
    "                count_attach=count_attach+1\n",
    "                MtrDetachDecider2 = 1000 \n",
    "                Numsteps2=Numsteps\n",
    "        else: #motor2 attached, motor1 not\n",
    "            if MtrStepDecider2 <= step_thresh:  #if true, then motor1 is attempting to step\n",
    "                MtrDetachDecider2 = random.randrange(ts)\n",
    "                if MtrDetachDecider2 >= detac_thresh:\n",
    "                    Numsteps2 = Numsteps2 + 1\n",
    "            MtrAttachDecider = random.randrange(ts)\n",
    "            if MtrAttachDecider < 2: #2 chances per sec\n",
    "                count_attach=count_attach+1\n",
    "                MtrDetachDecider = 1000 \n",
    "                Numsteps=Numsteps2\n",
    "    num_steps.append((Numsteps+Numsteps2)/2) #append num steps for this iteration i to list\n",
    "    distance_travelled.append((Numsteps+Numsteps2)/2*step_size) #append dist travelled for this iteration i to list\n",
    "    run_length.append(numtimesteps/10000)\n",
    "    count_attachments.append(count_attach)\n",
    "    velocity.append(((Numsteps+Numsteps2)/2*step_size)/(numtimesteps/10000)) #append velocity for this iteration i to list\n",
    "mean_velocity=np.mean(velocity)\n",
    "#print(\"average velocity is \",mean_velocity,\" nm/sec\")\n",
    "mean_distance=np.mean(distance_travelled)\n",
    "print(\"average length of time of each run is \",np.mean(run_length),\"seconds\")\n",
    "mean_at=np.mean(count_attachments)\n",
    "print(\"average times reattached per run is \",mean_at,\" times.\")\n",
    "#calculate 95% CI\n",
    "t = stats.t.ppf(1-((100-95)/2/100), n-1) #calculate t value for this SRS\n",
    "CIlow=np.mean(distance_travelled)-t*np.std(distance_travelled,ddof=1)/(n**.5)\n",
    "CIhigh=np.mean(distance_travelled)+t*np.std(distance_travelled,ddof=1)/(n**.5)\n",
    "print(\"mean run length is \",mean_distance,\"nm\")\n",
    "print(\"95% CI of run length is \",CIlow,\" and \",CIhigh,\" nanometers.\")\n",
    "#make histogram below\n",
    "m, bins, patches = plt.hist(x=distance_travelled, bins='auto', alpha=0.7, rwidth=0.85) #choose bins automatically\n",
    "plt.grid(axis='y', alpha=0.5)\n",
    "plt.xlabel('Run Length (nanometers)')\n",
    "plt.ylabel('Frequency')\n",
    "plt.title('Histogram for velocity condition of 100 nm/sec.')\n",
    "maxfreq = m.max()"
   ]
  },
  {
   "cell_type": "code",
   "execution_count": 9,
   "metadata": {},
   "outputs": [
    {
     "name": "stdout",
     "output_type": "stream",
     "text": [
      "According to our back of the envelope calculation the estimated run length for  100  nm/s velocity is  3200.0  nm.\n"
     ]
    }
   ],
   "source": [
    "#order of magnitude estimate\n",
    "velocity=100 #nm/s\n",
    "av_time=800/velocity\n",
    "off_rate=1/av_time\n",
    "deltaT=0.5\n",
    "prob_detac=off_rate*deltaT\n",
    "prob_end=2*prob_detac\n",
    "est_cycles=1/prob_end\n",
    "est_run_length=400*est_cycles\n",
    "print(\"According to our back of the envelope calculation the estimated run length for \",velocity,\" nm/s velocity is \",est_run_length,\" nm.\")"
   ]
  }
 ],
 "metadata": {
  "kernelspec": {
   "display_name": "Python 3",
   "language": "python",
   "name": "python3"
  },
  "language_info": {
   "codemirror_mode": {
    "name": "ipython",
    "version": 3
   },
   "file_extension": ".py",
   "mimetype": "text/x-python",
   "name": "python",
   "nbconvert_exporter": "python",
   "pygments_lexer": "ipython3",
   "version": "3.8.5"
  }
 },
 "nbformat": 4,
 "nbformat_minor": 4
}
