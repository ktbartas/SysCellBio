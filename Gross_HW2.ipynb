{
 "cells": [
  {
   "cell_type": "markdown",
   "metadata": {},
   "source": [
    "# Systems Cell Bio HW#2  \n",
    "Professor Gross' section of the course  \n",
    "Katrina Bartas  \n",
    "2/17/21"
   ]
  },
  {
   "cell_type": "markdown",
   "metadata": {},
   "source": [
    "HW#1 simulated a single kinesin stepping, ignoring load and ATP, by having “steps” occur with constant probability. You assumed kinesin takes 8 nm steps, with no back-steps, and has some probability of detaching per step, and tuned things to get the appropriate mean velocity and run-length. You made a histogram of run-lengths. Now we’ll look at velocities.  \n",
    "\n",
    "# Q1  \n",
    "How does velocity variation change with the size of the window used to calculate velocity?  \n",
    "Show distributions."
   ]
  },
  {
   "cell_type": "code",
   "execution_count": null,
   "metadata": {},
   "outputs": [],
   "source": []
  },
  {
   "cell_type": "markdown",
   "metadata": {},
   "source": [
    "# Q2  \n",
    "Suppose a motor moves with a mean velocity of 800 nm/sec.  \n",
    "What is the chance of observing a velocity of at least 900 nm/sec at least once in a 1 second\n",
    "interval, calculating velocity over windows of 0.05 sec, 0.1 sec, 0.2 sec, 0.4 sec, and 1 sec?\n",
    "Answer this same question for velocities of 1200 nm/s, 1600 nm/sec, 2400 nm/sec and 3600\n",
    "nm/sec.\n",
    "\n",
    "Explain how you got the answers for Q1 and Q2."
   ]
  },
  {
   "cell_type": "code",
   "execution_count": null,
   "metadata": {},
   "outputs": [],
   "source": []
  }
 ],
 "metadata": {
  "kernelspec": {
   "display_name": "Python 3",
   "language": "python",
   "name": "python3"
  },
  "language_info": {
   "codemirror_mode": {
    "name": "ipython",
    "version": 3
   },
   "file_extension": ".py",
   "mimetype": "text/x-python",
   "name": "python",
   "nbconvert_exporter": "python",
   "pygments_lexer": "ipython3",
   "version": "3.8.5"
  }
 },
 "nbformat": 4,
 "nbformat_minor": 4
}
